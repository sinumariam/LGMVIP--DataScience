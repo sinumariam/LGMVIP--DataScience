{
  "nbformat": 4,
  "nbformat_minor": 0,
  "metadata": {
    "colab": {
      "provenance": []
    },
    "kernelspec": {
      "name": "python3",
      "display_name": "Python 3"
    },
    "language_info": {
      "name": "python"
    }
  },
  "cells": [
    {
      "cell_type": "markdown",
      "source": [
        "#### Author : SINU S MARIAM\n",
        "#### Designation : Data Science Intern  \n",
        "#### Organization : LetsGrowMore\n",
        "#### Batch : MARCH 2023\n",
        "#### Task 2-STOCK MARKET PREDICTION AND FORECASTING USING STACKED LSTM\n",
        "####                                                (BEGINNER LEVEL)\n",
        "#### Problem Statement:\n",
        "*  Use LSTM (Long Short-Term Memory) approach to predict stock market indices on the given dataset.\n"
      ],
      "metadata": {
        "id": "g6cAT9ZXVJdN"
      }
    },
    {
      "cell_type": "code",
      "source": [
        "#importing necessary libraries \n",
        "import pandas as pd\n",
        "import numpy as np\n",
        "import warnings\n",
        "warnings.filterwarnings('ignore')\n",
        "#importing libraries for visualisation\n",
        "import matplotlib.pyplot as plt\n",
        "from matplotlib import style\n",
        "import seaborn as sns\n",
        "#importing tensorflow\n",
        "import tensorflow as tf"
      ],
      "metadata": {
        "id": "AbVvVt2FVGtA"
      },
      "execution_count": null,
      "outputs": []
    },
    {
      "cell_type": "code",
      "source": [
        "tf.__version__"
      ],
      "metadata": {
        "colab": {
          "base_uri": "https://localhost:8080/",
          "height": 35
        },
        "id": "Qx4QV2Nu0Hwm",
        "outputId": "bf3e2544-5705-404b-e7ed-235ea8c05d41"
      },
      "execution_count": null,
      "outputs": [
        {
          "output_type": "execute_result",
          "data": {
            "text/plain": [
              "'2.11.0'"
            ],
            "application/vnd.google.colaboratory.intrinsic+json": {
              "type": "string"
            }
          },
          "metadata": {},
          "execution_count": 2
        }
      ]
    },
    {
      "cell_type": "code",
      "source": [
        "#importing Data\n",
        "data_frame=pd.read_csv('https://raw.githubusercontent.com/mwitiderrick/stockprice/master/NSE-TATAGLOBAL.csv')"
      ],
      "metadata": {
        "id": "480cOIS4h7o1"
      },
      "execution_count": null,
      "outputs": []
    },
    {
      "cell_type": "markdown",
      "source": [
        "####  Performing descriptive analysis. Understand the variables and their corresponding values. "
      ],
      "metadata": {
        "id": "DsT18K_cjNcM"
      }
    },
    {
      "cell_type": "code",
      "source": [
        "# Understanding the dimensions of data\n",
        "data_frame.shape"
      ],
      "metadata": {
        "colab": {
          "base_uri": "https://localhost:8080/"
        },
        "id": "-eeq7qx5jVxw",
        "outputId": "84e9f1b1-7755-410c-8b7f-f6ee0543a4dc"
      },
      "execution_count": null,
      "outputs": [
        {
          "output_type": "execute_result",
          "data": {
            "text/plain": [
              "(2035, 8)"
            ]
          },
          "metadata": {},
          "execution_count": 4
        }
      ]
    },
    {
      "cell_type": "code",
      "source": [
        "# Understanding the Data Variables\n",
        "data_frame.info()"
      ],
      "metadata": {
        "colab": {
          "base_uri": "https://localhost:8080/"
        },
        "id": "mFNzPlBTkHdh",
        "outputId": "88afd708-8e75-4d71-a8e1-7153be89da20"
      },
      "execution_count": null,
      "outputs": [
        {
          "output_type": "stream",
          "name": "stdout",
          "text": [
            "<class 'pandas.core.frame.DataFrame'>\n",
            "RangeIndex: 2035 entries, 0 to 2034\n",
            "Data columns (total 8 columns):\n",
            " #   Column                Non-Null Count  Dtype  \n",
            "---  ------                --------------  -----  \n",
            " 0   Date                  2035 non-null   object \n",
            " 1   Open                  2035 non-null   float64\n",
            " 2   High                  2035 non-null   float64\n",
            " 3   Low                   2035 non-null   float64\n",
            " 4   Last                  2035 non-null   float64\n",
            " 5   Close                 2035 non-null   float64\n",
            " 6   Total Trade Quantity  2035 non-null   int64  \n",
            " 7   Turnover (Lacs)       2035 non-null   float64\n",
            "dtypes: float64(6), int64(1), object(1)\n",
            "memory usage: 127.3+ KB\n"
          ]
        }
      ]
    },
    {
      "cell_type": "code",
      "source": [
        "data_frame.columns"
      ],
      "metadata": {
        "colab": {
          "base_uri": "https://localhost:8080/"
        },
        "id": "EPTfdmWskm7z",
        "outputId": "80027cc1-3f41-4c27-a866-09e85342e379"
      },
      "execution_count": null,
      "outputs": [
        {
          "output_type": "execute_result",
          "data": {
            "text/plain": [
              "Index(['Date', 'Open', 'High', 'Low', 'Last', 'Close', 'Total Trade Quantity',\n",
              "       'Turnover (Lacs)'],\n",
              "      dtype='object')"
            ]
          },
          "metadata": {},
          "execution_count": 6
        }
      ]
    },
    {
      "cell_type": "markdown",
      "source": [
        "* Columns are Open , High, Low, Last , Close, Total Trade Quantity,Turnover  in Lacs and the corresponding Dates."
      ],
      "metadata": {
        "id": "3XhlKIp0kvwy"
      }
    },
    {
      "cell_type": "code",
      "source": [
        "# Show the top 5 Rows of data\n",
        "data_frame.head(5)"
      ],
      "metadata": {
        "colab": {
          "base_uri": "https://localhost:8080/",
          "height": 206
        },
        "id": "loBnV9YClhgY",
        "outputId": "48eef431-03d1-4a17-87a5-c969cf5e99fa"
      },
      "execution_count": null,
      "outputs": [
        {
          "output_type": "execute_result",
          "data": {
            "text/plain": [
              "         Date    Open    High     Low    Last   Close  Total Trade Quantity  \\\n",
              "0  2018-09-28  234.05  235.95  230.20  233.50  233.75               3069914   \n",
              "1  2018-09-27  234.55  236.80  231.10  233.80  233.25               5082859   \n",
              "2  2018-09-26  240.00  240.00  232.50  235.00  234.25               2240909   \n",
              "3  2018-09-25  233.30  236.75  232.00  236.25  236.10               2349368   \n",
              "4  2018-09-24  233.55  239.20  230.75  234.00  233.30               3423509   \n",
              "\n",
              "   Turnover (Lacs)  \n",
              "0          7162.35  \n",
              "1         11859.95  \n",
              "2          5248.60  \n",
              "3          5503.90  \n",
              "4          7999.55  "
            ],
            "text/html": [
              "\n",
              "  <div id=\"df-27ef01fd-f84a-4083-b852-4024a5f2365a\">\n",
              "    <div class=\"colab-df-container\">\n",
              "      <div>\n",
              "<style scoped>\n",
              "    .dataframe tbody tr th:only-of-type {\n",
              "        vertical-align: middle;\n",
              "    }\n",
              "\n",
              "    .dataframe tbody tr th {\n",
              "        vertical-align: top;\n",
              "    }\n",
              "\n",
              "    .dataframe thead th {\n",
              "        text-align: right;\n",
              "    }\n",
              "</style>\n",
              "<table border=\"1\" class=\"dataframe\">\n",
              "  <thead>\n",
              "    <tr style=\"text-align: right;\">\n",
              "      <th></th>\n",
              "      <th>Date</th>\n",
              "      <th>Open</th>\n",
              "      <th>High</th>\n",
              "      <th>Low</th>\n",
              "      <th>Last</th>\n",
              "      <th>Close</th>\n",
              "      <th>Total Trade Quantity</th>\n",
              "      <th>Turnover (Lacs)</th>\n",
              "    </tr>\n",
              "  </thead>\n",
              "  <tbody>\n",
              "    <tr>\n",
              "      <th>0</th>\n",
              "      <td>2018-09-28</td>\n",
              "      <td>234.05</td>\n",
              "      <td>235.95</td>\n",
              "      <td>230.20</td>\n",
              "      <td>233.50</td>\n",
              "      <td>233.75</td>\n",
              "      <td>3069914</td>\n",
              "      <td>7162.35</td>\n",
              "    </tr>\n",
              "    <tr>\n",
              "      <th>1</th>\n",
              "      <td>2018-09-27</td>\n",
              "      <td>234.55</td>\n",
              "      <td>236.80</td>\n",
              "      <td>231.10</td>\n",
              "      <td>233.80</td>\n",
              "      <td>233.25</td>\n",
              "      <td>5082859</td>\n",
              "      <td>11859.95</td>\n",
              "    </tr>\n",
              "    <tr>\n",
              "      <th>2</th>\n",
              "      <td>2018-09-26</td>\n",
              "      <td>240.00</td>\n",
              "      <td>240.00</td>\n",
              "      <td>232.50</td>\n",
              "      <td>235.00</td>\n",
              "      <td>234.25</td>\n",
              "      <td>2240909</td>\n",
              "      <td>5248.60</td>\n",
              "    </tr>\n",
              "    <tr>\n",
              "      <th>3</th>\n",
              "      <td>2018-09-25</td>\n",
              "      <td>233.30</td>\n",
              "      <td>236.75</td>\n",
              "      <td>232.00</td>\n",
              "      <td>236.25</td>\n",
              "      <td>236.10</td>\n",
              "      <td>2349368</td>\n",
              "      <td>5503.90</td>\n",
              "    </tr>\n",
              "    <tr>\n",
              "      <th>4</th>\n",
              "      <td>2018-09-24</td>\n",
              "      <td>233.55</td>\n",
              "      <td>239.20</td>\n",
              "      <td>230.75</td>\n",
              "      <td>234.00</td>\n",
              "      <td>233.30</td>\n",
              "      <td>3423509</td>\n",
              "      <td>7999.55</td>\n",
              "    </tr>\n",
              "  </tbody>\n",
              "</table>\n",
              "</div>\n",
              "      <button class=\"colab-df-convert\" onclick=\"convertToInteractive('df-27ef01fd-f84a-4083-b852-4024a5f2365a')\"\n",
              "              title=\"Convert this dataframe to an interactive table.\"\n",
              "              style=\"display:none;\">\n",
              "        \n",
              "  <svg xmlns=\"http://www.w3.org/2000/svg\" height=\"24px\"viewBox=\"0 0 24 24\"\n",
              "       width=\"24px\">\n",
              "    <path d=\"M0 0h24v24H0V0z\" fill=\"none\"/>\n",
              "    <path d=\"M18.56 5.44l.94 2.06.94-2.06 2.06-.94-2.06-.94-.94-2.06-.94 2.06-2.06.94zm-11 1L8.5 8.5l.94-2.06 2.06-.94-2.06-.94L8.5 2.5l-.94 2.06-2.06.94zm10 10l.94 2.06.94-2.06 2.06-.94-2.06-.94-.94-2.06-.94 2.06-2.06.94z\"/><path d=\"M17.41 7.96l-1.37-1.37c-.4-.4-.92-.59-1.43-.59-.52 0-1.04.2-1.43.59L10.3 9.45l-7.72 7.72c-.78.78-.78 2.05 0 2.83L4 21.41c.39.39.9.59 1.41.59.51 0 1.02-.2 1.41-.59l7.78-7.78 2.81-2.81c.8-.78.8-2.07 0-2.86zM5.41 20L4 18.59l7.72-7.72 1.47 1.35L5.41 20z\"/>\n",
              "  </svg>\n",
              "      </button>\n",
              "      \n",
              "  <style>\n",
              "    .colab-df-container {\n",
              "      display:flex;\n",
              "      flex-wrap:wrap;\n",
              "      gap: 12px;\n",
              "    }\n",
              "\n",
              "    .colab-df-convert {\n",
              "      background-color: #E8F0FE;\n",
              "      border: none;\n",
              "      border-radius: 50%;\n",
              "      cursor: pointer;\n",
              "      display: none;\n",
              "      fill: #1967D2;\n",
              "      height: 32px;\n",
              "      padding: 0 0 0 0;\n",
              "      width: 32px;\n",
              "    }\n",
              "\n",
              "    .colab-df-convert:hover {\n",
              "      background-color: #E2EBFA;\n",
              "      box-shadow: 0px 1px 2px rgba(60, 64, 67, 0.3), 0px 1px 3px 1px rgba(60, 64, 67, 0.15);\n",
              "      fill: #174EA6;\n",
              "    }\n",
              "\n",
              "    [theme=dark] .colab-df-convert {\n",
              "      background-color: #3B4455;\n",
              "      fill: #D2E3FC;\n",
              "    }\n",
              "\n",
              "    [theme=dark] .colab-df-convert:hover {\n",
              "      background-color: #434B5C;\n",
              "      box-shadow: 0px 1px 3px 1px rgba(0, 0, 0, 0.15);\n",
              "      filter: drop-shadow(0px 1px 2px rgba(0, 0, 0, 0.3));\n",
              "      fill: #FFFFFF;\n",
              "    }\n",
              "  </style>\n",
              "\n",
              "      <script>\n",
              "        const buttonEl =\n",
              "          document.querySelector('#df-27ef01fd-f84a-4083-b852-4024a5f2365a button.colab-df-convert');\n",
              "        buttonEl.style.display =\n",
              "          google.colab.kernel.accessAllowed ? 'block' : 'none';\n",
              "\n",
              "        async function convertToInteractive(key) {\n",
              "          const element = document.querySelector('#df-27ef01fd-f84a-4083-b852-4024a5f2365a');\n",
              "          const dataTable =\n",
              "            await google.colab.kernel.invokeFunction('convertToInteractive',\n",
              "                                                     [key], {});\n",
              "          if (!dataTable) return;\n",
              "\n",
              "          const docLinkHtml = 'Like what you see? Visit the ' +\n",
              "            '<a target=\"_blank\" href=https://colab.research.google.com/notebooks/data_table.ipynb>data table notebook</a>'\n",
              "            + ' to learn more about interactive tables.';\n",
              "          element.innerHTML = '';\n",
              "          dataTable['output_type'] = 'display_data';\n",
              "          await google.colab.output.renderOutput(dataTable, element);\n",
              "          const docLink = document.createElement('div');\n",
              "          docLink.innerHTML = docLinkHtml;\n",
              "          element.appendChild(docLink);\n",
              "        }\n",
              "      </script>\n",
              "    </div>\n",
              "  </div>\n",
              "  "
            ]
          },
          "metadata": {},
          "execution_count": 7
        }
      ]
    },
    {
      "cell_type": "code",
      "source": [
        "data_frame.tail(5)"
      ],
      "metadata": {
        "colab": {
          "base_uri": "https://localhost:8080/",
          "height": 206
        },
        "id": "l6V3H0mYEx5q",
        "outputId": "ce125b35-1baa-4955-9993-6071273423be"
      },
      "execution_count": null,
      "outputs": [
        {
          "output_type": "execute_result",
          "data": {
            "text/plain": [
              "            Date   Open    High     Low    Last   Close  Total Trade Quantity  \\\n",
              "2030  2010-07-27  117.6  119.50  112.00  118.80  118.65                586100   \n",
              "2031  2010-07-26  120.1  121.00  117.10  117.10  117.60                658440   \n",
              "2032  2010-07-23  121.8  121.95  120.25  120.35  120.65                281312   \n",
              "2033  2010-07-22  120.3  122.00  120.25  120.75  120.90                293312   \n",
              "2034  2010-07-21  122.1  123.00  121.05  121.10  121.55                658666   \n",
              "\n",
              "      Turnover (Lacs)  \n",
              "2030           694.98  \n",
              "2031           780.01  \n",
              "2032           340.31  \n",
              "2033           355.17  \n",
              "2034           803.56  "
            ],
            "text/html": [
              "\n",
              "  <div id=\"df-aa79846f-79df-421b-a3b4-85cad03f9791\">\n",
              "    <div class=\"colab-df-container\">\n",
              "      <div>\n",
              "<style scoped>\n",
              "    .dataframe tbody tr th:only-of-type {\n",
              "        vertical-align: middle;\n",
              "    }\n",
              "\n",
              "    .dataframe tbody tr th {\n",
              "        vertical-align: top;\n",
              "    }\n",
              "\n",
              "    .dataframe thead th {\n",
              "        text-align: right;\n",
              "    }\n",
              "</style>\n",
              "<table border=\"1\" class=\"dataframe\">\n",
              "  <thead>\n",
              "    <tr style=\"text-align: right;\">\n",
              "      <th></th>\n",
              "      <th>Date</th>\n",
              "      <th>Open</th>\n",
              "      <th>High</th>\n",
              "      <th>Low</th>\n",
              "      <th>Last</th>\n",
              "      <th>Close</th>\n",
              "      <th>Total Trade Quantity</th>\n",
              "      <th>Turnover (Lacs)</th>\n",
              "    </tr>\n",
              "  </thead>\n",
              "  <tbody>\n",
              "    <tr>\n",
              "      <th>2030</th>\n",
              "      <td>2010-07-27</td>\n",
              "      <td>117.6</td>\n",
              "      <td>119.50</td>\n",
              "      <td>112.00</td>\n",
              "      <td>118.80</td>\n",
              "      <td>118.65</td>\n",
              "      <td>586100</td>\n",
              "      <td>694.98</td>\n",
              "    </tr>\n",
              "    <tr>\n",
              "      <th>2031</th>\n",
              "      <td>2010-07-26</td>\n",
              "      <td>120.1</td>\n",
              "      <td>121.00</td>\n",
              "      <td>117.10</td>\n",
              "      <td>117.10</td>\n",
              "      <td>117.60</td>\n",
              "      <td>658440</td>\n",
              "      <td>780.01</td>\n",
              "    </tr>\n",
              "    <tr>\n",
              "      <th>2032</th>\n",
              "      <td>2010-07-23</td>\n",
              "      <td>121.8</td>\n",
              "      <td>121.95</td>\n",
              "      <td>120.25</td>\n",
              "      <td>120.35</td>\n",
              "      <td>120.65</td>\n",
              "      <td>281312</td>\n",
              "      <td>340.31</td>\n",
              "    </tr>\n",
              "    <tr>\n",
              "      <th>2033</th>\n",
              "      <td>2010-07-22</td>\n",
              "      <td>120.3</td>\n",
              "      <td>122.00</td>\n",
              "      <td>120.25</td>\n",
              "      <td>120.75</td>\n",
              "      <td>120.90</td>\n",
              "      <td>293312</td>\n",
              "      <td>355.17</td>\n",
              "    </tr>\n",
              "    <tr>\n",
              "      <th>2034</th>\n",
              "      <td>2010-07-21</td>\n",
              "      <td>122.1</td>\n",
              "      <td>123.00</td>\n",
              "      <td>121.05</td>\n",
              "      <td>121.10</td>\n",
              "      <td>121.55</td>\n",
              "      <td>658666</td>\n",
              "      <td>803.56</td>\n",
              "    </tr>\n",
              "  </tbody>\n",
              "</table>\n",
              "</div>\n",
              "      <button class=\"colab-df-convert\" onclick=\"convertToInteractive('df-aa79846f-79df-421b-a3b4-85cad03f9791')\"\n",
              "              title=\"Convert this dataframe to an interactive table.\"\n",
              "              style=\"display:none;\">\n",
              "        \n",
              "  <svg xmlns=\"http://www.w3.org/2000/svg\" height=\"24px\"viewBox=\"0 0 24 24\"\n",
              "       width=\"24px\">\n",
              "    <path d=\"M0 0h24v24H0V0z\" fill=\"none\"/>\n",
              "    <path d=\"M18.56 5.44l.94 2.06.94-2.06 2.06-.94-2.06-.94-.94-2.06-.94 2.06-2.06.94zm-11 1L8.5 8.5l.94-2.06 2.06-.94-2.06-.94L8.5 2.5l-.94 2.06-2.06.94zm10 10l.94 2.06.94-2.06 2.06-.94-2.06-.94-.94-2.06-.94 2.06-2.06.94z\"/><path d=\"M17.41 7.96l-1.37-1.37c-.4-.4-.92-.59-1.43-.59-.52 0-1.04.2-1.43.59L10.3 9.45l-7.72 7.72c-.78.78-.78 2.05 0 2.83L4 21.41c.39.39.9.59 1.41.59.51 0 1.02-.2 1.41-.59l7.78-7.78 2.81-2.81c.8-.78.8-2.07 0-2.86zM5.41 20L4 18.59l7.72-7.72 1.47 1.35L5.41 20z\"/>\n",
              "  </svg>\n",
              "      </button>\n",
              "      \n",
              "  <style>\n",
              "    .colab-df-container {\n",
              "      display:flex;\n",
              "      flex-wrap:wrap;\n",
              "      gap: 12px;\n",
              "    }\n",
              "\n",
              "    .colab-df-convert {\n",
              "      background-color: #E8F0FE;\n",
              "      border: none;\n",
              "      border-radius: 50%;\n",
              "      cursor: pointer;\n",
              "      display: none;\n",
              "      fill: #1967D2;\n",
              "      height: 32px;\n",
              "      padding: 0 0 0 0;\n",
              "      width: 32px;\n",
              "    }\n",
              "\n",
              "    .colab-df-convert:hover {\n",
              "      background-color: #E2EBFA;\n",
              "      box-shadow: 0px 1px 2px rgba(60, 64, 67, 0.3), 0px 1px 3px 1px rgba(60, 64, 67, 0.15);\n",
              "      fill: #174EA6;\n",
              "    }\n",
              "\n",
              "    [theme=dark] .colab-df-convert {\n",
              "      background-color: #3B4455;\n",
              "      fill: #D2E3FC;\n",
              "    }\n",
              "\n",
              "    [theme=dark] .colab-df-convert:hover {\n",
              "      background-color: #434B5C;\n",
              "      box-shadow: 0px 1px 3px 1px rgba(0, 0, 0, 0.15);\n",
              "      filter: drop-shadow(0px 1px 2px rgba(0, 0, 0, 0.3));\n",
              "      fill: #FFFFFF;\n",
              "    }\n",
              "  </style>\n",
              "\n",
              "      <script>\n",
              "        const buttonEl =\n",
              "          document.querySelector('#df-aa79846f-79df-421b-a3b4-85cad03f9791 button.colab-df-convert');\n",
              "        buttonEl.style.display =\n",
              "          google.colab.kernel.accessAllowed ? 'block' : 'none';\n",
              "\n",
              "        async function convertToInteractive(key) {\n",
              "          const element = document.querySelector('#df-aa79846f-79df-421b-a3b4-85cad03f9791');\n",
              "          const dataTable =\n",
              "            await google.colab.kernel.invokeFunction('convertToInteractive',\n",
              "                                                     [key], {});\n",
              "          if (!dataTable) return;\n",
              "\n",
              "          const docLinkHtml = 'Like what you see? Visit the ' +\n",
              "            '<a target=\"_blank\" href=https://colab.research.google.com/notebooks/data_table.ipynb>data table notebook</a>'\n",
              "            + ' to learn more about interactive tables.';\n",
              "          element.innerHTML = '';\n",
              "          dataTable['output_type'] = 'display_data';\n",
              "          await google.colab.output.renderOutput(dataTable, element);\n",
              "          const docLink = document.createElement('div');\n",
              "          docLink.innerHTML = docLinkHtml;\n",
              "          element.appendChild(docLink);\n",
              "        }\n",
              "      </script>\n",
              "    </div>\n",
              "  </div>\n",
              "  "
            ]
          },
          "metadata": {},
          "execution_count": 8
        }
      ]
    },
    {
      "cell_type": "code",
      "source": [
        "#Finding the period of time of stock data available\n",
        "print('Stock data starting date: ', data_frame[\"Date\"].min())\n",
        "print('Stock data ending date: ', data_frame[\"Date\"].max())"
      ],
      "metadata": {
        "colab": {
          "base_uri": "https://localhost:8080/"
        },
        "id": "mVB0BfpeFMum",
        "outputId": "381fe925-89a8-4cd3-ae4d-12dbde081b4a"
      },
      "execution_count": null,
      "outputs": [
        {
          "output_type": "stream",
          "name": "stdout",
          "text": [
            "Stock data starting date:  2010-07-21\n",
            "Stock data ending date:  2018-09-28\n"
          ]
        }
      ]
    },
    {
      "cell_type": "markdown",
      "source": [
        "* Time frame of Stock market data is from 21st July 2010 to 28th September 2018"
      ],
      "metadata": {
        "id": "VLUUtm6BFREz"
      }
    },
    {
      "cell_type": "code",
      "source": [
        "# Arrange in terms of date\n",
        "data_frame.set_index(\"Date\",inplace=True)\n",
        "data_frame.head()"
      ],
      "metadata": {
        "colab": {
          "base_uri": "https://localhost:8080/",
          "height": 237
        },
        "id": "D6MDaTYdFSIP",
        "outputId": "fc98cd9b-495e-429e-ec19-66f38e75caab"
      },
      "execution_count": null,
      "outputs": [
        {
          "output_type": "execute_result",
          "data": {
            "text/plain": [
              "              Open    High     Low    Last   Close  Total Trade Quantity  \\\n",
              "Date                                                                       \n",
              "2018-09-28  234.05  235.95  230.20  233.50  233.75               3069914   \n",
              "2018-09-27  234.55  236.80  231.10  233.80  233.25               5082859   \n",
              "2018-09-26  240.00  240.00  232.50  235.00  234.25               2240909   \n",
              "2018-09-25  233.30  236.75  232.00  236.25  236.10               2349368   \n",
              "2018-09-24  233.55  239.20  230.75  234.00  233.30               3423509   \n",
              "\n",
              "            Turnover (Lacs)  \n",
              "Date                         \n",
              "2018-09-28          7162.35  \n",
              "2018-09-27         11859.95  \n",
              "2018-09-26          5248.60  \n",
              "2018-09-25          5503.90  \n",
              "2018-09-24          7999.55  "
            ],
            "text/html": [
              "\n",
              "  <div id=\"df-f5b9ba3d-283a-4cb4-bae7-8cef0ae38c04\">\n",
              "    <div class=\"colab-df-container\">\n",
              "      <div>\n",
              "<style scoped>\n",
              "    .dataframe tbody tr th:only-of-type {\n",
              "        vertical-align: middle;\n",
              "    }\n",
              "\n",
              "    .dataframe tbody tr th {\n",
              "        vertical-align: top;\n",
              "    }\n",
              "\n",
              "    .dataframe thead th {\n",
              "        text-align: right;\n",
              "    }\n",
              "</style>\n",
              "<table border=\"1\" class=\"dataframe\">\n",
              "  <thead>\n",
              "    <tr style=\"text-align: right;\">\n",
              "      <th></th>\n",
              "      <th>Open</th>\n",
              "      <th>High</th>\n",
              "      <th>Low</th>\n",
              "      <th>Last</th>\n",
              "      <th>Close</th>\n",
              "      <th>Total Trade Quantity</th>\n",
              "      <th>Turnover (Lacs)</th>\n",
              "    </tr>\n",
              "    <tr>\n",
              "      <th>Date</th>\n",
              "      <th></th>\n",
              "      <th></th>\n",
              "      <th></th>\n",
              "      <th></th>\n",
              "      <th></th>\n",
              "      <th></th>\n",
              "      <th></th>\n",
              "    </tr>\n",
              "  </thead>\n",
              "  <tbody>\n",
              "    <tr>\n",
              "      <th>2018-09-28</th>\n",
              "      <td>234.05</td>\n",
              "      <td>235.95</td>\n",
              "      <td>230.20</td>\n",
              "      <td>233.50</td>\n",
              "      <td>233.75</td>\n",
              "      <td>3069914</td>\n",
              "      <td>7162.35</td>\n",
              "    </tr>\n",
              "    <tr>\n",
              "      <th>2018-09-27</th>\n",
              "      <td>234.55</td>\n",
              "      <td>236.80</td>\n",
              "      <td>231.10</td>\n",
              "      <td>233.80</td>\n",
              "      <td>233.25</td>\n",
              "      <td>5082859</td>\n",
              "      <td>11859.95</td>\n",
              "    </tr>\n",
              "    <tr>\n",
              "      <th>2018-09-26</th>\n",
              "      <td>240.00</td>\n",
              "      <td>240.00</td>\n",
              "      <td>232.50</td>\n",
              "      <td>235.00</td>\n",
              "      <td>234.25</td>\n",
              "      <td>2240909</td>\n",
              "      <td>5248.60</td>\n",
              "    </tr>\n",
              "    <tr>\n",
              "      <th>2018-09-25</th>\n",
              "      <td>233.30</td>\n",
              "      <td>236.75</td>\n",
              "      <td>232.00</td>\n",
              "      <td>236.25</td>\n",
              "      <td>236.10</td>\n",
              "      <td>2349368</td>\n",
              "      <td>5503.90</td>\n",
              "    </tr>\n",
              "    <tr>\n",
              "      <th>2018-09-24</th>\n",
              "      <td>233.55</td>\n",
              "      <td>239.20</td>\n",
              "      <td>230.75</td>\n",
              "      <td>234.00</td>\n",
              "      <td>233.30</td>\n",
              "      <td>3423509</td>\n",
              "      <td>7999.55</td>\n",
              "    </tr>\n",
              "  </tbody>\n",
              "</table>\n",
              "</div>\n",
              "      <button class=\"colab-df-convert\" onclick=\"convertToInteractive('df-f5b9ba3d-283a-4cb4-bae7-8cef0ae38c04')\"\n",
              "              title=\"Convert this dataframe to an interactive table.\"\n",
              "              style=\"display:none;\">\n",
              "        \n",
              "  <svg xmlns=\"http://www.w3.org/2000/svg\" height=\"24px\"viewBox=\"0 0 24 24\"\n",
              "       width=\"24px\">\n",
              "    <path d=\"M0 0h24v24H0V0z\" fill=\"none\"/>\n",
              "    <path d=\"M18.56 5.44l.94 2.06.94-2.06 2.06-.94-2.06-.94-.94-2.06-.94 2.06-2.06.94zm-11 1L8.5 8.5l.94-2.06 2.06-.94-2.06-.94L8.5 2.5l-.94 2.06-2.06.94zm10 10l.94 2.06.94-2.06 2.06-.94-2.06-.94-.94-2.06-.94 2.06-2.06.94z\"/><path d=\"M17.41 7.96l-1.37-1.37c-.4-.4-.92-.59-1.43-.59-.52 0-1.04.2-1.43.59L10.3 9.45l-7.72 7.72c-.78.78-.78 2.05 0 2.83L4 21.41c.39.39.9.59 1.41.59.51 0 1.02-.2 1.41-.59l7.78-7.78 2.81-2.81c.8-.78.8-2.07 0-2.86zM5.41 20L4 18.59l7.72-7.72 1.47 1.35L5.41 20z\"/>\n",
              "  </svg>\n",
              "      </button>\n",
              "      \n",
              "  <style>\n",
              "    .colab-df-container {\n",
              "      display:flex;\n",
              "      flex-wrap:wrap;\n",
              "      gap: 12px;\n",
              "    }\n",
              "\n",
              "    .colab-df-convert {\n",
              "      background-color: #E8F0FE;\n",
              "      border: none;\n",
              "      border-radius: 50%;\n",
              "      cursor: pointer;\n",
              "      display: none;\n",
              "      fill: #1967D2;\n",
              "      height: 32px;\n",
              "      padding: 0 0 0 0;\n",
              "      width: 32px;\n",
              "    }\n",
              "\n",
              "    .colab-df-convert:hover {\n",
              "      background-color: #E2EBFA;\n",
              "      box-shadow: 0px 1px 2px rgba(60, 64, 67, 0.3), 0px 1px 3px 1px rgba(60, 64, 67, 0.15);\n",
              "      fill: #174EA6;\n",
              "    }\n",
              "\n",
              "    [theme=dark] .colab-df-convert {\n",
              "      background-color: #3B4455;\n",
              "      fill: #D2E3FC;\n",
              "    }\n",
              "\n",
              "    [theme=dark] .colab-df-convert:hover {\n",
              "      background-color: #434B5C;\n",
              "      box-shadow: 0px 1px 3px 1px rgba(0, 0, 0, 0.15);\n",
              "      filter: drop-shadow(0px 1px 2px rgba(0, 0, 0, 0.3));\n",
              "      fill: #FFFFFF;\n",
              "    }\n",
              "  </style>\n",
              "\n",
              "      <script>\n",
              "        const buttonEl =\n",
              "          document.querySelector('#df-f5b9ba3d-283a-4cb4-bae7-8cef0ae38c04 button.colab-df-convert');\n",
              "        buttonEl.style.display =\n",
              "          google.colab.kernel.accessAllowed ? 'block' : 'none';\n",
              "\n",
              "        async function convertToInteractive(key) {\n",
              "          const element = document.querySelector('#df-f5b9ba3d-283a-4cb4-bae7-8cef0ae38c04');\n",
              "          const dataTable =\n",
              "            await google.colab.kernel.invokeFunction('convertToInteractive',\n",
              "                                                     [key], {});\n",
              "          if (!dataTable) return;\n",
              "\n",
              "          const docLinkHtml = 'Like what you see? Visit the ' +\n",
              "            '<a target=\"_blank\" href=https://colab.research.google.com/notebooks/data_table.ipynb>data table notebook</a>'\n",
              "            + ' to learn more about interactive tables.';\n",
              "          element.innerHTML = '';\n",
              "          dataTable['output_type'] = 'display_data';\n",
              "          await google.colab.output.renderOutput(dataTable, element);\n",
              "          const docLink = document.createElement('div');\n",
              "          docLink.innerHTML = docLinkHtml;\n",
              "          element.appendChild(docLink);\n",
              "        }\n",
              "      </script>\n",
              "    </div>\n",
              "  </div>\n",
              "  "
            ]
          },
          "metadata": {},
          "execution_count": 10
        }
      ]
    },
    {
      "cell_type": "code",
      "source": [
        "# Performing Descriptive Analysis\n",
        "data_frame.describe().T"
      ],
      "metadata": {
        "colab": {
          "base_uri": "https://localhost:8080/",
          "height": 269
        },
        "id": "eeIS65E8mBv6",
        "outputId": "b42c16f0-2c66-41ba-c53a-b65e5cb886da"
      },
      "execution_count": null,
      "outputs": [
        {
          "output_type": "execute_result",
          "data": {
            "text/plain": [
              "                       count          mean           std       min  \\\n",
              "Open                  2035.0  1.497137e+02  4.866451e+01     81.10   \n",
              "High                  2035.0  1.519928e+02  4.941311e+01     82.80   \n",
              "Low                   2035.0  1.472939e+02  4.793196e+01     80.00   \n",
              "Last                  2035.0  1.494743e+02  4.873257e+01     81.00   \n",
              "Close                 2035.0  1.494503e+02  4.871204e+01     80.95   \n",
              "Total Trade Quantity  2035.0  2.335681e+06  2.091778e+06  39610.00   \n",
              "Turnover (Lacs)       2035.0  3.899981e+03  4.570768e+03     37.04   \n",
              "\n",
              "                              25%         50%          75%          max  \n",
              "Open                      120.025      141.50      157.175       327.70  \n",
              "High                      122.100      143.40      159.400       328.75  \n",
              "Low                       118.300      139.60      155.150       321.65  \n",
              "Last                      120.075      141.10      156.925       325.95  \n",
              "Close                     120.050      141.25      156.900       325.75  \n",
              "Total Trade Quantity  1146444.500  1783456.00  2813594.000  29191015.00  \n",
              "Turnover (Lacs)          1427.460     2512.03     4539.015     55755.08  "
            ],
            "text/html": [
              "\n",
              "  <div id=\"df-13464896-7d5c-4f53-a67e-69cad2cf4efc\">\n",
              "    <div class=\"colab-df-container\">\n",
              "      <div>\n",
              "<style scoped>\n",
              "    .dataframe tbody tr th:only-of-type {\n",
              "        vertical-align: middle;\n",
              "    }\n",
              "\n",
              "    .dataframe tbody tr th {\n",
              "        vertical-align: top;\n",
              "    }\n",
              "\n",
              "    .dataframe thead th {\n",
              "        text-align: right;\n",
              "    }\n",
              "</style>\n",
              "<table border=\"1\" class=\"dataframe\">\n",
              "  <thead>\n",
              "    <tr style=\"text-align: right;\">\n",
              "      <th></th>\n",
              "      <th>count</th>\n",
              "      <th>mean</th>\n",
              "      <th>std</th>\n",
              "      <th>min</th>\n",
              "      <th>25%</th>\n",
              "      <th>50%</th>\n",
              "      <th>75%</th>\n",
              "      <th>max</th>\n",
              "    </tr>\n",
              "  </thead>\n",
              "  <tbody>\n",
              "    <tr>\n",
              "      <th>Open</th>\n",
              "      <td>2035.0</td>\n",
              "      <td>1.497137e+02</td>\n",
              "      <td>4.866451e+01</td>\n",
              "      <td>81.10</td>\n",
              "      <td>120.025</td>\n",
              "      <td>141.50</td>\n",
              "      <td>157.175</td>\n",
              "      <td>327.70</td>\n",
              "    </tr>\n",
              "    <tr>\n",
              "      <th>High</th>\n",
              "      <td>2035.0</td>\n",
              "      <td>1.519928e+02</td>\n",
              "      <td>4.941311e+01</td>\n",
              "      <td>82.80</td>\n",
              "      <td>122.100</td>\n",
              "      <td>143.40</td>\n",
              "      <td>159.400</td>\n",
              "      <td>328.75</td>\n",
              "    </tr>\n",
              "    <tr>\n",
              "      <th>Low</th>\n",
              "      <td>2035.0</td>\n",
              "      <td>1.472939e+02</td>\n",
              "      <td>4.793196e+01</td>\n",
              "      <td>80.00</td>\n",
              "      <td>118.300</td>\n",
              "      <td>139.60</td>\n",
              "      <td>155.150</td>\n",
              "      <td>321.65</td>\n",
              "    </tr>\n",
              "    <tr>\n",
              "      <th>Last</th>\n",
              "      <td>2035.0</td>\n",
              "      <td>1.494743e+02</td>\n",
              "      <td>4.873257e+01</td>\n",
              "      <td>81.00</td>\n",
              "      <td>120.075</td>\n",
              "      <td>141.10</td>\n",
              "      <td>156.925</td>\n",
              "      <td>325.95</td>\n",
              "    </tr>\n",
              "    <tr>\n",
              "      <th>Close</th>\n",
              "      <td>2035.0</td>\n",
              "      <td>1.494503e+02</td>\n",
              "      <td>4.871204e+01</td>\n",
              "      <td>80.95</td>\n",
              "      <td>120.050</td>\n",
              "      <td>141.25</td>\n",
              "      <td>156.900</td>\n",
              "      <td>325.75</td>\n",
              "    </tr>\n",
              "    <tr>\n",
              "      <th>Total Trade Quantity</th>\n",
              "      <td>2035.0</td>\n",
              "      <td>2.335681e+06</td>\n",
              "      <td>2.091778e+06</td>\n",
              "      <td>39610.00</td>\n",
              "      <td>1146444.500</td>\n",
              "      <td>1783456.00</td>\n",
              "      <td>2813594.000</td>\n",
              "      <td>29191015.00</td>\n",
              "    </tr>\n",
              "    <tr>\n",
              "      <th>Turnover (Lacs)</th>\n",
              "      <td>2035.0</td>\n",
              "      <td>3.899981e+03</td>\n",
              "      <td>4.570768e+03</td>\n",
              "      <td>37.04</td>\n",
              "      <td>1427.460</td>\n",
              "      <td>2512.03</td>\n",
              "      <td>4539.015</td>\n",
              "      <td>55755.08</td>\n",
              "    </tr>\n",
              "  </tbody>\n",
              "</table>\n",
              "</div>\n",
              "      <button class=\"colab-df-convert\" onclick=\"convertToInteractive('df-13464896-7d5c-4f53-a67e-69cad2cf4efc')\"\n",
              "              title=\"Convert this dataframe to an interactive table.\"\n",
              "              style=\"display:none;\">\n",
              "        \n",
              "  <svg xmlns=\"http://www.w3.org/2000/svg\" height=\"24px\"viewBox=\"0 0 24 24\"\n",
              "       width=\"24px\">\n",
              "    <path d=\"M0 0h24v24H0V0z\" fill=\"none\"/>\n",
              "    <path d=\"M18.56 5.44l.94 2.06.94-2.06 2.06-.94-2.06-.94-.94-2.06-.94 2.06-2.06.94zm-11 1L8.5 8.5l.94-2.06 2.06-.94-2.06-.94L8.5 2.5l-.94 2.06-2.06.94zm10 10l.94 2.06.94-2.06 2.06-.94-2.06-.94-.94-2.06-.94 2.06-2.06.94z\"/><path d=\"M17.41 7.96l-1.37-1.37c-.4-.4-.92-.59-1.43-.59-.52 0-1.04.2-1.43.59L10.3 9.45l-7.72 7.72c-.78.78-.78 2.05 0 2.83L4 21.41c.39.39.9.59 1.41.59.51 0 1.02-.2 1.41-.59l7.78-7.78 2.81-2.81c.8-.78.8-2.07 0-2.86zM5.41 20L4 18.59l7.72-7.72 1.47 1.35L5.41 20z\"/>\n",
              "  </svg>\n",
              "      </button>\n",
              "      \n",
              "  <style>\n",
              "    .colab-df-container {\n",
              "      display:flex;\n",
              "      flex-wrap:wrap;\n",
              "      gap: 12px;\n",
              "    }\n",
              "\n",
              "    .colab-df-convert {\n",
              "      background-color: #E8F0FE;\n",
              "      border: none;\n",
              "      border-radius: 50%;\n",
              "      cursor: pointer;\n",
              "      display: none;\n",
              "      fill: #1967D2;\n",
              "      height: 32px;\n",
              "      padding: 0 0 0 0;\n",
              "      width: 32px;\n",
              "    }\n",
              "\n",
              "    .colab-df-convert:hover {\n",
              "      background-color: #E2EBFA;\n",
              "      box-shadow: 0px 1px 2px rgba(60, 64, 67, 0.3), 0px 1px 3px 1px rgba(60, 64, 67, 0.15);\n",
              "      fill: #174EA6;\n",
              "    }\n",
              "\n",
              "    [theme=dark] .colab-df-convert {\n",
              "      background-color: #3B4455;\n",
              "      fill: #D2E3FC;\n",
              "    }\n",
              "\n",
              "    [theme=dark] .colab-df-convert:hover {\n",
              "      background-color: #434B5C;\n",
              "      box-shadow: 0px 1px 3px 1px rgba(0, 0, 0, 0.15);\n",
              "      filter: drop-shadow(0px 1px 2px rgba(0, 0, 0, 0.3));\n",
              "      fill: #FFFFFF;\n",
              "    }\n",
              "  </style>\n",
              "\n",
              "      <script>\n",
              "        const buttonEl =\n",
              "          document.querySelector('#df-13464896-7d5c-4f53-a67e-69cad2cf4efc button.colab-df-convert');\n",
              "        buttonEl.style.display =\n",
              "          google.colab.kernel.accessAllowed ? 'block' : 'none';\n",
              "\n",
              "        async function convertToInteractive(key) {\n",
              "          const element = document.querySelector('#df-13464896-7d5c-4f53-a67e-69cad2cf4efc');\n",
              "          const dataTable =\n",
              "            await google.colab.kernel.invokeFunction('convertToInteractive',\n",
              "                                                     [key], {});\n",
              "          if (!dataTable) return;\n",
              "\n",
              "          const docLinkHtml = 'Like what you see? Visit the ' +\n",
              "            '<a target=\"_blank\" href=https://colab.research.google.com/notebooks/data_table.ipynb>data table notebook</a>'\n",
              "            + ' to learn more about interactive tables.';\n",
              "          element.innerHTML = '';\n",
              "          dataTable['output_type'] = 'display_data';\n",
              "          await google.colab.output.renderOutput(dataTable, element);\n",
              "          const docLink = document.createElement('div');\n",
              "          docLink.innerHTML = docLinkHtml;\n",
              "          element.appendChild(docLink);\n",
              "        }\n",
              "      </script>\n",
              "    </div>\n",
              "  </div>\n",
              "  "
            ]
          },
          "metadata": {},
          "execution_count": 11
        }
      ]
    },
    {
      "cell_type": "markdown",
      "source": [
        "* Most of the values in Open, close, high , low and last are similar "
      ],
      "metadata": {
        "id": "VTXn_kwq_zsC"
      }
    },
    {
      "cell_type": "code",
      "source": [
        "# Checking for null values\n",
        "data_frame.isnull().sum()"
      ],
      "metadata": {
        "colab": {
          "base_uri": "https://localhost:8080/"
        },
        "id": "lIrlJZ7EmVyt",
        "outputId": "077bd7b9-09cb-4b85-cafb-e1e1b9d985ee"
      },
      "execution_count": null,
      "outputs": [
        {
          "output_type": "execute_result",
          "data": {
            "text/plain": [
              "Open                    0\n",
              "High                    0\n",
              "Low                     0\n",
              "Last                    0\n",
              "Close                   0\n",
              "Total Trade Quantity    0\n",
              "Turnover (Lacs)         0\n",
              "dtype: int64"
            ]
          },
          "metadata": {},
          "execution_count": 12
        }
      ]
    },
    {
      "cell_type": "markdown",
      "source": [
        "DATA VISUALISATION"
      ],
      "metadata": {
        "id": "2Tem6Lhq9Oz-"
      }
    },
    {
      "cell_type": "code",
      "source": [
        "# find correlation between variables in data set for plotting heatmap\n",
        "df_corr=data_frame.corr()\n",
        "df_corr"
      ],
      "metadata": {
        "colab": {
          "base_uri": "https://localhost:8080/",
          "height": 269
        },
        "id": "pOL_A1a36bbw",
        "outputId": "46a173d7-581f-490f-fafc-cd2df7ce8cda"
      },
      "execution_count": null,
      "outputs": [
        {
          "output_type": "execute_result",
          "data": {
            "text/plain": [
              "                          Open      High       Low      Last     Close  \\\n",
              "Open                  1.000000  0.999015  0.998825  0.997781  0.997840   \n",
              "High                  0.999015  1.000000  0.998773  0.999155  0.999194   \n",
              "Low                   0.998825  0.998773  1.000000  0.999051  0.999119   \n",
              "Last                  0.997781  0.999155  0.999051  1.000000  0.999961   \n",
              "Close                 0.997840  0.999194  0.999119  0.999961  1.000000   \n",
              "Total Trade Quantity  0.385951  0.406405  0.380621  0.399328  0.398911   \n",
              "Turnover (Lacs)       0.612877  0.630589  0.608502  0.624584  0.624213   \n",
              "\n",
              "                      Total Trade Quantity  Turnover (Lacs)  \n",
              "Open                              0.385951         0.612877  \n",
              "High                              0.406405         0.630589  \n",
              "Low                               0.380621         0.608502  \n",
              "Last                              0.399328         0.624584  \n",
              "Close                             0.398911         0.624213  \n",
              "Total Trade Quantity              1.000000         0.926931  \n",
              "Turnover (Lacs)                   0.926931         1.000000  "
            ],
            "text/html": [
              "\n",
              "  <div id=\"df-1586c154-c00e-44b2-9b10-16b04b96dd91\">\n",
              "    <div class=\"colab-df-container\">\n",
              "      <div>\n",
              "<style scoped>\n",
              "    .dataframe tbody tr th:only-of-type {\n",
              "        vertical-align: middle;\n",
              "    }\n",
              "\n",
              "    .dataframe tbody tr th {\n",
              "        vertical-align: top;\n",
              "    }\n",
              "\n",
              "    .dataframe thead th {\n",
              "        text-align: right;\n",
              "    }\n",
              "</style>\n",
              "<table border=\"1\" class=\"dataframe\">\n",
              "  <thead>\n",
              "    <tr style=\"text-align: right;\">\n",
              "      <th></th>\n",
              "      <th>Open</th>\n",
              "      <th>High</th>\n",
              "      <th>Low</th>\n",
              "      <th>Last</th>\n",
              "      <th>Close</th>\n",
              "      <th>Total Trade Quantity</th>\n",
              "      <th>Turnover (Lacs)</th>\n",
              "    </tr>\n",
              "  </thead>\n",
              "  <tbody>\n",
              "    <tr>\n",
              "      <th>Open</th>\n",
              "      <td>1.000000</td>\n",
              "      <td>0.999015</td>\n",
              "      <td>0.998825</td>\n",
              "      <td>0.997781</td>\n",
              "      <td>0.997840</td>\n",
              "      <td>0.385951</td>\n",
              "      <td>0.612877</td>\n",
              "    </tr>\n",
              "    <tr>\n",
              "      <th>High</th>\n",
              "      <td>0.999015</td>\n",
              "      <td>1.000000</td>\n",
              "      <td>0.998773</td>\n",
              "      <td>0.999155</td>\n",
              "      <td>0.999194</td>\n",
              "      <td>0.406405</td>\n",
              "      <td>0.630589</td>\n",
              "    </tr>\n",
              "    <tr>\n",
              "      <th>Low</th>\n",
              "      <td>0.998825</td>\n",
              "      <td>0.998773</td>\n",
              "      <td>1.000000</td>\n",
              "      <td>0.999051</td>\n",
              "      <td>0.999119</td>\n",
              "      <td>0.380621</td>\n",
              "      <td>0.608502</td>\n",
              "    </tr>\n",
              "    <tr>\n",
              "      <th>Last</th>\n",
              "      <td>0.997781</td>\n",
              "      <td>0.999155</td>\n",
              "      <td>0.999051</td>\n",
              "      <td>1.000000</td>\n",
              "      <td>0.999961</td>\n",
              "      <td>0.399328</td>\n",
              "      <td>0.624584</td>\n",
              "    </tr>\n",
              "    <tr>\n",
              "      <th>Close</th>\n",
              "      <td>0.997840</td>\n",
              "      <td>0.999194</td>\n",
              "      <td>0.999119</td>\n",
              "      <td>0.999961</td>\n",
              "      <td>1.000000</td>\n",
              "      <td>0.398911</td>\n",
              "      <td>0.624213</td>\n",
              "    </tr>\n",
              "    <tr>\n",
              "      <th>Total Trade Quantity</th>\n",
              "      <td>0.385951</td>\n",
              "      <td>0.406405</td>\n",
              "      <td>0.380621</td>\n",
              "      <td>0.399328</td>\n",
              "      <td>0.398911</td>\n",
              "      <td>1.000000</td>\n",
              "      <td>0.926931</td>\n",
              "    </tr>\n",
              "    <tr>\n",
              "      <th>Turnover (Lacs)</th>\n",
              "      <td>0.612877</td>\n",
              "      <td>0.630589</td>\n",
              "      <td>0.608502</td>\n",
              "      <td>0.624584</td>\n",
              "      <td>0.624213</td>\n",
              "      <td>0.926931</td>\n",
              "      <td>1.000000</td>\n",
              "    </tr>\n",
              "  </tbody>\n",
              "</table>\n",
              "</div>\n",
              "      <button class=\"colab-df-convert\" onclick=\"convertToInteractive('df-1586c154-c00e-44b2-9b10-16b04b96dd91')\"\n",
              "              title=\"Convert this dataframe to an interactive table.\"\n",
              "              style=\"display:none;\">\n",
              "        \n",
              "  <svg xmlns=\"http://www.w3.org/2000/svg\" height=\"24px\"viewBox=\"0 0 24 24\"\n",
              "       width=\"24px\">\n",
              "    <path d=\"M0 0h24v24H0V0z\" fill=\"none\"/>\n",
              "    <path d=\"M18.56 5.44l.94 2.06.94-2.06 2.06-.94-2.06-.94-.94-2.06-.94 2.06-2.06.94zm-11 1L8.5 8.5l.94-2.06 2.06-.94-2.06-.94L8.5 2.5l-.94 2.06-2.06.94zm10 10l.94 2.06.94-2.06 2.06-.94-2.06-.94-.94-2.06-.94 2.06-2.06.94z\"/><path d=\"M17.41 7.96l-1.37-1.37c-.4-.4-.92-.59-1.43-.59-.52 0-1.04.2-1.43.59L10.3 9.45l-7.72 7.72c-.78.78-.78 2.05 0 2.83L4 21.41c.39.39.9.59 1.41.59.51 0 1.02-.2 1.41-.59l7.78-7.78 2.81-2.81c.8-.78.8-2.07 0-2.86zM5.41 20L4 18.59l7.72-7.72 1.47 1.35L5.41 20z\"/>\n",
              "  </svg>\n",
              "      </button>\n",
              "      \n",
              "  <style>\n",
              "    .colab-df-container {\n",
              "      display:flex;\n",
              "      flex-wrap:wrap;\n",
              "      gap: 12px;\n",
              "    }\n",
              "\n",
              "    .colab-df-convert {\n",
              "      background-color: #E8F0FE;\n",
              "      border: none;\n",
              "      border-radius: 50%;\n",
              "      cursor: pointer;\n",
              "      display: none;\n",
              "      fill: #1967D2;\n",
              "      height: 32px;\n",
              "      padding: 0 0 0 0;\n",
              "      width: 32px;\n",
              "    }\n",
              "\n",
              "    .colab-df-convert:hover {\n",
              "      background-color: #E2EBFA;\n",
              "      box-shadow: 0px 1px 2px rgba(60, 64, 67, 0.3), 0px 1px 3px 1px rgba(60, 64, 67, 0.15);\n",
              "      fill: #174EA6;\n",
              "    }\n",
              "\n",
              "    [theme=dark] .colab-df-convert {\n",
              "      background-color: #3B4455;\n",
              "      fill: #D2E3FC;\n",
              "    }\n",
              "\n",
              "    [theme=dark] .colab-df-convert:hover {\n",
              "      background-color: #434B5C;\n",
              "      box-shadow: 0px 1px 3px 1px rgba(0, 0, 0, 0.15);\n",
              "      filter: drop-shadow(0px 1px 2px rgba(0, 0, 0, 0.3));\n",
              "      fill: #FFFFFF;\n",
              "    }\n",
              "  </style>\n",
              "\n",
              "      <script>\n",
              "        const buttonEl =\n",
              "          document.querySelector('#df-1586c154-c00e-44b2-9b10-16b04b96dd91 button.colab-df-convert');\n",
              "        buttonEl.style.display =\n",
              "          google.colab.kernel.accessAllowed ? 'block' : 'none';\n",
              "\n",
              "        async function convertToInteractive(key) {\n",
              "          const element = document.querySelector('#df-1586c154-c00e-44b2-9b10-16b04b96dd91');\n",
              "          const dataTable =\n",
              "            await google.colab.kernel.invokeFunction('convertToInteractive',\n",
              "                                                     [key], {});\n",
              "          if (!dataTable) return;\n",
              "\n",
              "          const docLinkHtml = 'Like what you see? Visit the ' +\n",
              "            '<a target=\"_blank\" href=https://colab.research.google.com/notebooks/data_table.ipynb>data table notebook</a>'\n",
              "            + ' to learn more about interactive tables.';\n",
              "          element.innerHTML = '';\n",
              "          dataTable['output_type'] = 'display_data';\n",
              "          await google.colab.output.renderOutput(dataTable, element);\n",
              "          const docLink = document.createElement('div');\n",
              "          docLink.innerHTML = docLinkHtml;\n",
              "          element.appendChild(docLink);\n",
              "        }\n",
              "      </script>\n",
              "    </div>\n",
              "  </div>\n",
              "  "
            ]
          },
          "metadata": {},
          "execution_count": 13
        }
      ]
    },
    {
      "cell_type": "code",
      "source": [
        "# Plotting Heatmap \n",
        "plt.figure(figsize=(10,6))\n",
        "sns.heatmap(df_corr,annot=True,cmap=\"BuPu\")\n",
        "plt.show()"
      ],
      "metadata": {
        "colab": {
          "base_uri": "https://localhost:8080/",
          "height": 468
        },
        "id": "fS1walKW6w03",
        "outputId": "1c47bb63-bee9-49cc-9f87-5323b4e9bd49"
      },
      "execution_count": null,
      "outputs": [
        {
          "output_type": "display_data",
          "data": {
            "text/plain": [
              "<Figure size 720x432 with 2 Axes>"
            ],
            "image/png": "[encoded data removed]"
          },
          "metadata": {
            "needs_background": "light"
          }
        }
      ]
    },
    {
      "cell_type": "markdown",
      "source": [
        "* Most of the values are highly correlated with each other"
      ],
      "metadata": {
        "id": "DjnxmZzM5kgY"
      }
    },
    {
      "cell_type": "code",
      "source": [
        "# Plotting the distribution of High, Low , Open and Close variables\n",
        "data_frame[[\"High\", \"Low\", \"Open\", \"Close\"]].plot(figsize=(15,6))\n",
        "plt.xlabel(\"Period \")\n",
        "plt.ylabel(\"High,Low,Open,Close\")\n",
        "plt.title(\"Distribution of High, Low, Open and Close \")\n",
        "plt.legend(loc=\"best\")"
      ],
      "metadata": {
        "colab": {
          "base_uri": "https://localhost:8080/",
          "height": 421
        },
        "id": "64vk284nLNRS",
        "outputId": "cf9d9915-1afa-4510-f15e-a377788c119a"
      },
      "execution_count": null,
      "outputs": [
        {
          "output_type": "execute_result",
          "data": {
            "text/plain": [
              "<matplotlib.legend.Legend at 0x7f1377393520>"
            ]
          },
          "metadata": {},
          "execution_count": 15
        },
        {
          "output_type": "display_data",
          "data": {
            "text/plain": [
              "<Figure size 1080x432 with 1 Axes>"
            ],
            "image/png": "[encoded data removed]"
          },
          "metadata": {
            "needs_background": "light"
          }
        }
      ]
    },
    {
      "cell_type": "markdown",
      "source": [
        "* Here values in Close, Open, High and Low follows similar pattern. So for furthur analysis, Values in 'Close' are only taken."
      ],
      "metadata": {
        "id": "c9rPpo0kDiTY"
      }
    },
    {
      "cell_type": "code",
      "source": [
        "# Taking the Close variable for further analysis\n",
        "data_frame_column_Close=data_frame.reset_index()['Close']\n",
        "print(data_frame_column_Close)"
      ],
      "metadata": {
        "colab": {
          "base_uri": "https://localhost:8080/"
        },
        "id": "Yj7XFNY68wmQ",
        "outputId": "b528c16f-bd6d-447a-93e9-626ce823f365"
      },
      "execution_count": null,
      "outputs": [
        {
          "output_type": "stream",
          "name": "stdout",
          "text": [
            "0       233.75\n",
            "1       233.25\n",
            "2       234.25\n",
            "3       236.10\n",
            "4       233.30\n",
            "         ...  \n",
            "2030    118.65\n",
            "2031    117.60\n",
            "2032    120.65\n",
            "2033    120.90\n",
            "2034    121.55\n",
            "Name: Close, Length: 2035, dtype: float64\n"
          ]
        }
      ]
    },
    {
      "cell_type": "markdown",
      "source": [
        "#### Plotting distribution of Close variable "
      ],
      "metadata": {
        "id": "XEspafyRKJob"
      }
    },
    {
      "cell_type": "code",
      "source": [
        "plt.figure(figsize=(15,6))\n",
        "plt.plot(data_frame_column_Close)\n",
        "plt.show()"
      ],
      "metadata": {
        "colab": {
          "base_uri": "https://localhost:8080/",
          "height": 374
        },
        "id": "MIex9iXrIOn6",
        "outputId": "a7e87819-3be3-41e1-ce58-b85290c04f58"
      },
      "execution_count": null,
      "outputs": [
        {
          "output_type": "display_data",
          "data": {
            "text/plain": [
              "<Figure size 1080x432 with 1 Axes>"
            ],
            "image/png": "[encoded data removed]"
          },
          "metadata": {
            "needs_background": "light"
          }
        }
      ]
    },
    {
      "cell_type": "code",
      "source": [
        "# Min Max Scaling transforms data by scaling features to a range between 0 and 1 \n",
        "from sklearn.preprocessing import MinMaxScaler\n",
        "scaler=MinMaxScaler(feature_range=(0,1))\n",
        "data_frame_column_Close=scaler.fit_transform(np.array(data_frame_column_Close).reshape(-1,1))\n",
        "data_frame_column_Close"
      ],
      "metadata": {
        "id": "Hc_RnhkJAzaD",
        "colab": {
          "base_uri": "https://localhost:8080/"
        },
        "outputId": "cc410fa6-5de6-47a6-a53d-eafec6f6f8b0"
      },
      "execution_count": null,
      "outputs": [
        {
          "output_type": "execute_result",
          "data": {
            "text/plain": [
              "array([[0.62418301],\n",
              "       [0.62214052],\n",
              "       [0.62622549],\n",
              "       ...,\n",
              "       [0.1621732 ],\n",
              "       [0.16319444],\n",
              "       [0.16584967]])"
            ]
          },
          "metadata": {},
          "execution_count": 18
        }
      ]
    },
    {
      "cell_type": "code",
      "source": [
        "# Print Length of train and test dataset\n",
        "# Train size is taken as 0.75 of total dataset\n",
        "train_size=int(len(data_frame_column_Close)*0.75)\n",
        "test_size=len(data_frame_column_Close)-train_size\n",
        "length=len(data_frame_column_Close)\n",
        "print('Train size: ', train_size)\n",
        "print('Test size: ', test_size)"
      ],
      "metadata": {
        "id": "nFVEKWx8A0HO",
        "colab": {
          "base_uri": "https://localhost:8080/"
        },
        "outputId": "a0532188-9a94-47a1-db0d-19b1f2fea3e1"
      },
      "execution_count": null,
      "outputs": [
        {
          "output_type": "stream",
          "name": "stdout",
          "text": [
            "Train size:  1526\n",
            "Test size:  509\n"
          ]
        }
      ]
    },
    {
      "cell_type": "code",
      "source": [
        "# Splitting into train and test data set\n",
        "train_data,test_data=data_frame_column_Close[0:train_size,:],data_frame_column_Close[train_size:length,:1]\n",
        "train_data"
      ],
      "metadata": {
        "id": "zEe_FcY6A0SU",
        "colab": {
          "base_uri": "https://localhost:8080/"
        },
        "outputId": "a92219ad-fb82-4a95-8bb9-7d8720fc3275"
      },
      "execution_count": null,
      "outputs": [
        {
          "output_type": "execute_result",
          "data": {
            "text/plain": [
              "array([[0.62418301],\n",
              "       [0.62214052],\n",
              "       [0.62622549],\n",
              "       ...,\n",
              "       [0.18831699],\n",
              "       [0.18811275],\n",
              "       [0.17034314]])"
            ]
          },
          "metadata": {},
          "execution_count": 20
        }
      ]
    },
    {
      "cell_type": "code",
      "source": [
        "# Defining the function stock_close for differentiating feature and target variable\n",
        "def stock_close(x, step=1):\n",
        "\tfeature,target = [], []\n",
        "\n",
        "\tfor i in range(len(x)-step):\n",
        "\t\ttmp_x = x[i:i+step, 0]   \n",
        "\t\tfeature.append(tmp_x)\n",
        "\t\ttarget.append(x[i + step, 0])\n",
        "\treturn np.array(feature), np.array(target)"
      ],
      "metadata": {
        "id": "SnPBoRLoSaUa"
      },
      "execution_count": null,
      "outputs": []
    },
    {
      "cell_type": "code",
      "source": [
        "# Defining train and test data\n",
        "X_train, y_train = stock_close(train_data, 100)\n",
        "X_test, ytest = stock_close(test_data, 100)\n"
      ],
      "metadata": {
        "id": "bXUOwuBZA0ab"
      },
      "execution_count": null,
      "outputs": []
    },
    {
      "cell_type": "code",
      "source": [
        "# Printing dimensions of train dataset\n",
        "print(X_train.shape), print(y_train.shape)"
      ],
      "metadata": {
        "colab": {
          "base_uri": "https://localhost:8080/"
        },
        "id": "PCPFfmtpDdR6",
        "outputId": "011fbbe6-d3e8-4cae-f271-7d2b3059cb35"
      },
      "execution_count": null,
      "outputs": [
        {
          "output_type": "stream",
          "name": "stdout",
          "text": [
            "(1426, 100)\n",
            "(1426,)\n"
          ]
        },
        {
          "output_type": "execute_result",
          "data": {
            "text/plain": [
              "(None, None)"
            ]
          },
          "metadata": {},
          "execution_count": 23
        }
      ]
    },
    {
      "cell_type": "code",
      "source": [
        "# Printing dimensions of test dataset\n",
        "print(X_test.shape), print(ytest.shape)"
      ],
      "metadata": {
        "colab": {
          "base_uri": "https://localhost:8080/"
        },
        "id": "8-oA-LNCDj5N",
        "outputId": "d82ffe75-b1ab-4f72-c386-96583d97ae53"
      },
      "execution_count": null,
      "outputs": [
        {
          "output_type": "stream",
          "name": "stdout",
          "text": [
            "(409, 100)\n",
            "(409,)\n"
          ]
        },
        {
          "output_type": "execute_result",
          "data": {
            "text/plain": [
              "(None, None)"
            ]
          },
          "metadata": {},
          "execution_count": 24
        }
      ]
    },
    {
      "cell_type": "code",
      "source": [
        "# reshape input to be [samples, time steps, features] which is required for LSTM\n",
        "X_train =X_train.reshape(X_train.shape[0],X_train.shape[1] , 1)\n",
        "X_test = X_test.reshape(X_test.shape[0],X_test.shape[1] , 1)"
      ],
      "metadata": {
        "id": "ByLabKNjDj7u"
      },
      "execution_count": null,
      "outputs": []
    },
    {
      "cell_type": "markdown",
      "source": [
        "#### Building the Neutral Network Model"
      ],
      "metadata": {
        "id": "VN7eFeX1-vec"
      }
    },
    {
      "cell_type": "code",
      "source": [
        "### Create the Stacked LSTM model\n",
        "from tensorflow.keras.models import Sequential\n",
        "from tensorflow.keras.layers import Dense\n",
        "from tensorflow.keras.layers import LSTM\n",
        "\n",
        "#Layers are added to model\n",
        "# Long short-term memory (LSTM) model is a variation of RNN ( Recurrent Neural Network)\n",
        "# Stock Prices are highly dependent on time frame\n",
        "# LSTM capable of processing  long-term dependencies in time-series data. \n",
        "# Fully connected layer makes the final prediction.\n",
        "my_model=Sequential()\n",
        "my_model.add(LSTM(64,return_sequences=True,input_shape=(100,1)))\n",
        "my_model.add(LSTM(32))\n",
        "my_model.add(Dense(1))"
      ],
      "metadata": {
        "id": "_PkaI67QDj96"
      },
      "execution_count": null,
      "outputs": []
    },
    {
      "cell_type": "code",
      "source": [
        "# Model Compilation\n",
        "my_model.compile(loss='mean_squared_error',optimizer='adam')"
      ],
      "metadata": {
        "id": "CQBfxTCWCL9V"
      },
      "execution_count": null,
      "outputs": []
    },
    {
      "cell_type": "code",
      "source": [
        "# Model Summary\n",
        "my_model.summary()"
      ],
      "metadata": {
        "colab": {
          "base_uri": "https://localhost:8080/"
        },
        "id": "VLvn0JC6D5Do",
        "outputId": "e8185a9a-3597-4c72-e732-2fea7539c02a"
      },
      "execution_count": null,
      "outputs": [
        {
          "output_type": "stream",
          "name": "stdout",
          "text": [
            "Model: \"sequential\"\n",
            "_________________________________________________________________\n",
            " Layer (type)                Output Shape              Param #   \n",
            "=================================================================\n",
            " lstm (LSTM)                 (None, 100, 64)           16896     \n",
            "                                                                 \n",
            " lstm_1 (LSTM)               (None, 32)                12416     \n",
            "                                                                 \n",
            " dense (Dense)               (None, 1)                 33        \n",
            "                                                                 \n",
            "=================================================================\n",
            "Total params: 29,345\n",
            "Trainable params: 29,345\n",
            "Non-trainable params: 0\n",
            "_________________________________________________________________\n"
          ]
        }
      ]
    },
    {
      "cell_type": "code",
      "source": [
        "# Fitting the model \n",
        "# Epoch refers to one cycle through full training dataset. Here 30 Epochs are used\n",
        "my_model.fit(X_train,y_train,validation_data=(X_test,ytest),epochs=30,batch_size=64,verbose=1)"
      ],
      "metadata": {
        "colab": {
          "base_uri": "https://localhost:8080/"
        },
        "id": "-ZstJ61mEB2w",
        "outputId": "e99aca74-29ca-495a-e03d-27be079b0cb1"
      },
      "execution_count": null,
      "outputs": [
        {
          "output_type": "stream",
          "name": "stdout",
          "text": [
            "Epoch 1/30\n",
            "23/23 [==============================] - 7s 120ms/step - loss: 0.0156 - val_loss: 0.0023\n",
            "Epoch 2/30\n",
            "23/23 [==============================] - 2s 88ms/step - loss: 0.0016 - val_loss: 7.4410e-04\n",
            "Epoch 3/30\n",
            "23/23 [==============================] - 3s 141ms/step - loss: 9.4187e-04 - val_loss: 8.0441e-04\n",
            "Epoch 4/30\n",
            "23/23 [==============================] - 4s 178ms/step - loss: 8.6820e-04 - val_loss: 6.5054e-04\n",
            "Epoch 5/30\n",
            "23/23 [==============================] - 4s 162ms/step - loss: 8.2532e-04 - val_loss: 6.4264e-04\n",
            "Epoch 6/30\n",
            "23/23 [==============================] - 4s 178ms/step - loss: 8.0004e-04 - val_loss: 6.7457e-04\n",
            "Epoch 7/30\n",
            "23/23 [==============================] - 4s 178ms/step - loss: 7.6402e-04 - val_loss: 7.4723e-04\n",
            "Epoch 8/30\n",
            "23/23 [==============================] - 2s 88ms/step - loss: 7.1909e-04 - val_loss: 5.8255e-04\n",
            "Epoch 9/30\n",
            "23/23 [==============================] - 2s 88ms/step - loss: 6.8780e-04 - val_loss: 6.7459e-04\n",
            "Epoch 10/30\n",
            "23/23 [==============================] - 2s 87ms/step - loss: 6.6507e-04 - val_loss: 5.1740e-04\n",
            "Epoch 11/30\n",
            "23/23 [==============================] - 2s 89ms/step - loss: 6.6081e-04 - val_loss: 6.6289e-04\n",
            "Epoch 12/30\n",
            "23/23 [==============================] - 2s 106ms/step - loss: 6.4710e-04 - val_loss: 6.8462e-04\n",
            "Epoch 13/30\n",
            "23/23 [==============================] - 2s 98ms/step - loss: 6.8088e-04 - val_loss: 6.1577e-04\n",
            "Epoch 14/30\n",
            "23/23 [==============================] - 2s 89ms/step - loss: 6.4540e-04 - val_loss: 5.1031e-04\n",
            "Epoch 15/30\n",
            "23/23 [==============================] - 2s 90ms/step - loss: 6.2973e-04 - val_loss: 6.1519e-04\n",
            "Epoch 16/30\n",
            "23/23 [==============================] - 2s 89ms/step - loss: 5.6513e-04 - val_loss: 6.2851e-04\n",
            "Epoch 17/30\n",
            "23/23 [==============================] - 2s 88ms/step - loss: 5.4988e-04 - val_loss: 5.2215e-04\n",
            "Epoch 18/30\n",
            "23/23 [==============================] - 3s 117ms/step - loss: 5.3048e-04 - val_loss: 5.2585e-04\n",
            "Epoch 19/30\n",
            "23/23 [==============================] - 2s 86ms/step - loss: 5.5684e-04 - val_loss: 4.8024e-04\n",
            "Epoch 20/30\n",
            "23/23 [==============================] - 2s 90ms/step - loss: 5.4141e-04 - val_loss: 4.0657e-04\n",
            "Epoch 21/30\n",
            "23/23 [==============================] - 2s 89ms/step - loss: 5.6940e-04 - val_loss: 4.7829e-04\n",
            "Epoch 22/30\n",
            "23/23 [==============================] - 2s 89ms/step - loss: 5.0572e-04 - val_loss: 4.2561e-04\n",
            "Epoch 23/30\n",
            "23/23 [==============================] - 2s 108ms/step - loss: 5.0431e-04 - val_loss: 5.6496e-04\n",
            "Epoch 24/30\n",
            "23/23 [==============================] - 2s 95ms/step - loss: 4.8810e-04 - val_loss: 4.2288e-04\n",
            "Epoch 25/30\n",
            "23/23 [==============================] - 2s 89ms/step - loss: 4.9089e-04 - val_loss: 4.1185e-04\n",
            "Epoch 26/30\n",
            "23/23 [==============================] - 2s 90ms/step - loss: 4.4933e-04 - val_loss: 4.4664e-04\n",
            "Epoch 27/30\n",
            "23/23 [==============================] - 2s 90ms/step - loss: 4.4809e-04 - val_loss: 4.1715e-04\n",
            "Epoch 28/30\n",
            "23/23 [==============================] - 2s 90ms/step - loss: 4.4418e-04 - val_loss: 4.4382e-04\n",
            "Epoch 29/30\n",
            "23/23 [==============================] - 3s 121ms/step - loss: 4.2791e-04 - val_loss: 5.0884e-04\n",
            "Epoch 30/30\n",
            "23/23 [==============================] - 2s 90ms/step - loss: 4.3094e-04 - val_loss: 4.6918e-04\n"
          ]
        },
        {
          "output_type": "execute_result",
          "data": {
            "text/plain": [
              "<keras.callbacks.History at 0x7f13740b9640>"
            ]
          },
          "metadata": {},
          "execution_count": 29
        }
      ]
    },
    {
      "cell_type": "markdown",
      "source": [
        "#### Prediction"
      ],
      "metadata": {
        "id": "3DXKrkbKCtc4"
      }
    },
    {
      "cell_type": "code",
      "source": [
        "# Prediction of Close value Prices\n",
        "X_predict = my_model.predict(X_train)\n",
        "y_predict = my_model.predict(X_test)\n",
        "     "
      ],
      "metadata": {
        "id": "1WoaHJDQEjUA",
        "colab": {
          "base_uri": "https://localhost:8080/"
        },
        "outputId": "5b91e797-59ab-4277-fbd2-3152e35c45e9"
      },
      "execution_count": null,
      "outputs": [
        {
          "output_type": "stream",
          "name": "stdout",
          "text": [
            "45/45 [==============================] - 2s 25ms/step\n",
            "13/13 [==============================] - 0s 20ms/step\n"
          ]
        }
      ]
    },
    {
      "cell_type": "code",
      "source": [
        "# Inverse Transformation\n",
        "X_predict = scaler.inverse_transform(X_predict)\n",
        "y_predict = scaler.inverse_transform(y_predict)\n"
      ],
      "metadata": {
        "id": "GCdBEVEIfeBm"
      },
      "execution_count": null,
      "outputs": []
    },
    {
      "cell_type": "code",
      "source": [
        "# Printing Predicted values\n",
        "y_predict"
      ],
      "metadata": {
        "colab": {
          "base_uri": "https://localhost:8080/"
        },
        "id": "46VvSJ6nDqCp",
        "outputId": "b8c657cd-abd6-4dd0-e022-fcc1c25489d9"
      },
      "execution_count": null,
      "outputs": [
        {
          "output_type": "execute_result",
          "data": {
            "text/plain": [
              "array([[119.30978 ],\n",
              "       [119.1352  ],\n",
              "       [118.93488 ],\n",
              "       [119.23328 ],\n",
              "       [119.77732 ],\n",
              "       [120.721466],\n",
              "       [122.02718 ],\n",
              "       [122.80714 ],\n",
              "       [122.31919 ],\n",
              "       [122.00861 ],\n",
              "       [121.800934],\n",
              "       [121.35113 ],\n",
              "       [121.25036 ],\n",
              "       [121.15564 ],\n",
              "       [121.28273 ],\n",
              "       [121.52492 ],\n",
              "       [121.781494],\n",
              "       [122.09341 ],\n",
              "       [122.10498 ],\n",
              "       [122.4359  ],\n",
              "       [122.268425],\n",
              "       [121.36072 ],\n",
              "       [120.47241 ],\n",
              "       [120.11275 ],\n",
              "       [118.959206],\n",
              "       [117.45405 ],\n",
              "       [115.77911 ],\n",
              "       [113.12759 ],\n",
              "       [110.21821 ],\n",
              "       [107.322   ],\n",
              "       [104.58334 ],\n",
              "       [102.13592 ],\n",
              "       [100.20304 ],\n",
              "       [ 98.90704 ],\n",
              "       [ 98.02798 ],\n",
              "       [ 97.90928 ],\n",
              "       [ 98.36434 ],\n",
              "       [ 98.663795],\n",
              "       [ 98.72471 ],\n",
              "       [ 98.64348 ],\n",
              "       [ 98.59412 ],\n",
              "       [ 98.4808  ],\n",
              "       [ 98.369316],\n",
              "       [ 98.28434 ],\n",
              "       [ 98.182175],\n",
              "       [ 98.31058 ],\n",
              "       [ 98.46618 ],\n",
              "       [ 98.25967 ],\n",
              "       [ 97.78887 ],\n",
              "       [ 97.218994],\n",
              "       [ 96.39299 ],\n",
              "       [ 95.57173 ],\n",
              "       [ 94.911194],\n",
              "       [ 94.414406],\n",
              "       [ 94.17819 ],\n",
              "       [ 93.77575 ],\n",
              "       [ 93.20189 ],\n",
              "       [ 92.54166 ],\n",
              "       [ 92.08735 ],\n",
              "       [ 92.124695],\n",
              "       [ 92.217606],\n",
              "       [ 92.46037 ],\n",
              "       [ 92.640816],\n",
              "       [ 92.97391 ],\n",
              "       [ 93.36099 ],\n",
              "       [ 93.843666],\n",
              "       [ 94.298   ],\n",
              "       [ 94.80321 ],\n",
              "       [ 94.9372  ],\n",
              "       [ 94.42696 ],\n",
              "       [ 93.6247  ],\n",
              "       [ 92.7101  ],\n",
              "       [ 91.62332 ],\n",
              "       [ 90.64264 ],\n",
              "       [ 89.69271 ],\n",
              "       [ 89.03046 ],\n",
              "       [ 88.53822 ],\n",
              "       [ 88.253975],\n",
              "       [ 88.110565],\n",
              "       [ 88.17593 ],\n",
              "       [ 88.54614 ],\n",
              "       [ 89.23622 ],\n",
              "       [ 90.09476 ],\n",
              "       [ 91.0398  ],\n",
              "       [ 92.08598 ],\n",
              "       [ 93.09577 ],\n",
              "       [ 93.94944 ],\n",
              "       [ 94.66217 ],\n",
              "       [ 95.26229 ],\n",
              "       [ 95.82306 ],\n",
              "       [ 96.015625],\n",
              "       [ 95.79552 ],\n",
              "       [ 95.26171 ],\n",
              "       [ 94.44312 ],\n",
              "       [ 93.51244 ],\n",
              "       [ 92.67508 ],\n",
              "       [ 92.203995],\n",
              "       [ 91.99262 ],\n",
              "       [ 92.21903 ],\n",
              "       [ 92.44024 ],\n",
              "       [ 92.526764],\n",
              "       [ 92.65735 ],\n",
              "       [ 92.6581  ],\n",
              "       [ 92.4901  ],\n",
              "       [ 91.947945],\n",
              "       [ 91.11748 ],\n",
              "       [ 90.385994],\n",
              "       [ 89.89362 ],\n",
              "       [ 89.76178 ],\n",
              "       [ 89.84182 ],\n",
              "       [ 90.10691 ],\n",
              "       [ 90.653885],\n",
              "       [ 91.12259 ],\n",
              "       [ 91.529724],\n",
              "       [ 91.774574],\n",
              "       [ 92.533356],\n",
              "       [ 93.44052 ],\n",
              "       [ 94.19038 ],\n",
              "       [ 94.75759 ],\n",
              "       [ 95.3566  ],\n",
              "       [ 95.845604],\n",
              "       [ 96.13339 ],\n",
              "       [ 96.26363 ],\n",
              "       [ 96.51046 ],\n",
              "       [ 96.91741 ],\n",
              "       [ 97.35511 ],\n",
              "       [ 97.74219 ],\n",
              "       [ 97.79687 ],\n",
              "       [ 97.76819 ],\n",
              "       [ 97.77696 ],\n",
              "       [ 97.78504 ],\n",
              "       [ 97.39381 ],\n",
              "       [ 97.10372 ],\n",
              "       [ 96.80416 ],\n",
              "       [ 96.6245  ],\n",
              "       [ 96.38422 ],\n",
              "       [ 95.8436  ],\n",
              "       [ 95.2954  ],\n",
              "       [ 95.46424 ],\n",
              "       [ 96.326294],\n",
              "       [ 97.880936],\n",
              "       [ 99.73369 ],\n",
              "       [101.9382  ],\n",
              "       [103.69327 ],\n",
              "       [105.36857 ],\n",
              "       [106.803375],\n",
              "       [108.43155 ],\n",
              "       [109.61065 ],\n",
              "       [110.07117 ],\n",
              "       [110.330605],\n",
              "       [110.38331 ],\n",
              "       [110.468376],\n",
              "       [110.61514 ],\n",
              "       [110.38589 ],\n",
              "       [110.030106],\n",
              "       [109.36    ],\n",
              "       [108.21889 ],\n",
              "       [107.13925 ],\n",
              "       [106.41016 ],\n",
              "       [105.99769 ],\n",
              "       [105.57286 ],\n",
              "       [105.37864 ],\n",
              "       [105.24043 ],\n",
              "       [105.024155],\n",
              "       [104.90356 ],\n",
              "       [104.698   ],\n",
              "       [104.99661 ],\n",
              "       [105.34912 ],\n",
              "       [105.67883 ],\n",
              "       [106.10119 ],\n",
              "       [105.827995],\n",
              "       [105.08318 ],\n",
              "       [103.79436 ],\n",
              "       [102.3211  ],\n",
              "       [100.84748 ],\n",
              "       [ 99.51929 ],\n",
              "       [ 98.30555 ],\n",
              "       [ 97.26297 ],\n",
              "       [ 96.64414 ],\n",
              "       [ 96.43692 ],\n",
              "       [ 97.0047  ],\n",
              "       [ 97.78676 ],\n",
              "       [ 98.782295],\n",
              "       [ 99.93091 ],\n",
              "       [101.02357 ],\n",
              "       [101.54653 ],\n",
              "       [101.770775],\n",
              "       [101.952515],\n",
              "       [101.674164],\n",
              "       [101.06556 ],\n",
              "       [100.38394 ],\n",
              "       [ 99.77596 ],\n",
              "       [ 99.03552 ],\n",
              "       [ 97.88884 ],\n",
              "       [ 96.59632 ],\n",
              "       [ 95.49996 ],\n",
              "       [ 94.39667 ],\n",
              "       [ 93.65553 ],\n",
              "       [ 93.58254 ],\n",
              "       [ 94.220116],\n",
              "       [ 95.38072 ],\n",
              "       [ 96.610115],\n",
              "       [ 97.766525],\n",
              "       [ 98.74692 ],\n",
              "       [ 99.60657 ],\n",
              "       [100.491165],\n",
              "       [101.1646  ],\n",
              "       [101.92903 ],\n",
              "       [102.55487 ],\n",
              "       [102.81391 ],\n",
              "       [102.819984],\n",
              "       [102.5546  ],\n",
              "       [102.325195],\n",
              "       [102.29701 ],\n",
              "       [102.44042 ],\n",
              "       [102.74284 ],\n",
              "       [103.292984],\n",
              "       [104.060684],\n",
              "       [104.91738 ],\n",
              "       [105.48549 ],\n",
              "       [105.923416],\n",
              "       [106.10081 ],\n",
              "       [106.07458 ],\n",
              "       [105.82443 ],\n",
              "       [105.777855],\n",
              "       [105.849846],\n",
              "       [105.898026],\n",
              "       [106.156944],\n",
              "       [106.952484],\n",
              "       [107.715996],\n",
              "       [108.247955],\n",
              "       [108.208275],\n",
              "       [107.72866 ],\n",
              "       [106.74925 ],\n",
              "       [105.53621 ],\n",
              "       [104.22433 ],\n",
              "       [103.27089 ],\n",
              "       [102.5875  ],\n",
              "       [102.25221 ],\n",
              "       [101.98803 ],\n",
              "       [101.826035],\n",
              "       [101.7771  ],\n",
              "       [101.732185],\n",
              "       [101.66662 ],\n",
              "       [101.782585],\n",
              "       [101.924484],\n",
              "       [102.4382  ],\n",
              "       [103.01788 ],\n",
              "       [103.06518 ],\n",
              "       [102.80811 ],\n",
              "       [102.12172 ],\n",
              "       [100.78174 ],\n",
              "       [ 99.43932 ],\n",
              "       [ 98.20709 ],\n",
              "       [ 97.237816],\n",
              "       [ 96.35333 ],\n",
              "       [ 95.55658 ],\n",
              "       [ 94.782875],\n",
              "       [ 94.88199 ],\n",
              "       [ 95.5709  ],\n",
              "       [ 96.50309 ],\n",
              "       [ 97.31099 ],\n",
              "       [ 98.67684 ],\n",
              "       [ 99.4775  ],\n",
              "       [100.00573 ],\n",
              "       [100.19582 ],\n",
              "       [ 99.87737 ],\n",
              "       [ 98.94677 ],\n",
              "       [ 97.75543 ],\n",
              "       [ 97.01058 ],\n",
              "       [ 96.91678 ],\n",
              "       [ 97.15858 ],\n",
              "       [ 97.643845],\n",
              "       [ 98.34511 ],\n",
              "       [ 99.18734 ],\n",
              "       [100.13305 ],\n",
              "       [101.06723 ],\n",
              "       [102.56459 ],\n",
              "       [104.19555 ],\n",
              "       [105.72838 ],\n",
              "       [106.96583 ],\n",
              "       [107.981094],\n",
              "       [108.580124],\n",
              "       [108.85095 ],\n",
              "       [108.91589 ],\n",
              "       [108.79887 ],\n",
              "       [108.46805 ],\n",
              "       [108.109856],\n",
              "       [107.57754 ],\n",
              "       [107.26418 ],\n",
              "       [107.5361  ],\n",
              "       [108.39207 ],\n",
              "       [109.6234  ],\n",
              "       [111.01756 ],\n",
              "       [112.16907 ],\n",
              "       [112.67764 ],\n",
              "       [112.67485 ],\n",
              "       [112.61735 ],\n",
              "       [112.542076],\n",
              "       [112.48697 ],\n",
              "       [112.752   ],\n",
              "       [113.14829 ],\n",
              "       [113.70824 ],\n",
              "       [114.53785 ],\n",
              "       [115.37887 ],\n",
              "       [116.09624 ],\n",
              "       [116.619316],\n",
              "       [116.89036 ],\n",
              "       [116.839714],\n",
              "       [116.40719 ],\n",
              "       [115.877655],\n",
              "       [115.72799 ],\n",
              "       [115.84328 ],\n",
              "       [116.06297 ],\n",
              "       [116.223335],\n",
              "       [116.46484 ],\n",
              "       [116.663025],\n",
              "       [116.61265 ],\n",
              "       [116.43465 ],\n",
              "       [116.14837 ],\n",
              "       [115.556274],\n",
              "       [115.63923 ],\n",
              "       [116.114006],\n",
              "       [117.06545 ],\n",
              "       [118.19379 ],\n",
              "       [119.23504 ],\n",
              "       [120.28971 ],\n",
              "       [121.63111 ],\n",
              "       [122.9738  ],\n",
              "       [124.54024 ],\n",
              "       [126.485466],\n",
              "       [127.85402 ],\n",
              "       [128.47241 ],\n",
              "       [128.64526 ],\n",
              "       [128.37553 ],\n",
              "       [127.9198  ],\n",
              "       [127.48109 ],\n",
              "       [127.02784 ],\n",
              "       [126.63667 ],\n",
              "       [126.84377 ],\n",
              "       [127.1388  ],\n",
              "       [127.47335 ],\n",
              "       [127.92367 ],\n",
              "       [128.39247 ],\n",
              "       [129.04033 ],\n",
              "       [129.5742  ],\n",
              "       [130.03377 ],\n",
              "       [130.37355 ],\n",
              "       [130.63412 ],\n",
              "       [131.20792 ],\n",
              "       [131.95674 ],\n",
              "       [132.36967 ],\n",
              "       [132.95909 ],\n",
              "       [133.34854 ],\n",
              "       [133.68465 ],\n",
              "       [133.43076 ],\n",
              "       [132.6138  ],\n",
              "       [131.30443 ],\n",
              "       [129.75554 ],\n",
              "       [127.874054],\n",
              "       [126.21943 ],\n",
              "       [125.05052 ],\n",
              "       [124.383354],\n",
              "       [124.26022 ],\n",
              "       [124.27564 ],\n",
              "       [124.057755],\n",
              "       [123.953224],\n",
              "       [124.16048 ],\n",
              "       [124.28813 ],\n",
              "       [124.30922 ],\n",
              "       [124.40037 ],\n",
              "       [124.5914  ],\n",
              "       [125.05615 ],\n",
              "       [125.831024],\n",
              "       [126.61514 ],\n",
              "       [127.3665  ],\n",
              "       [127.45571 ],\n",
              "       [127.0596  ],\n",
              "       [126.467476],\n",
              "       [125.90309 ],\n",
              "       [125.12094 ],\n",
              "       [123.98274 ],\n",
              "       [122.81649 ],\n",
              "       [121.82165 ],\n",
              "       [120.909706],\n",
              "       [120.099915],\n",
              "       [119.47939 ],\n",
              "       [118.44726 ],\n",
              "       [117.51214 ],\n",
              "       [116.26363 ],\n",
              "       [115.15086 ],\n",
              "       [114.37061 ],\n",
              "       [114.19084 ],\n",
              "       [114.1876  ],\n",
              "       [114.44631 ],\n",
              "       [114.6425  ],\n",
              "       [114.84928 ],\n",
              "       [114.951866],\n",
              "       [115.203636],\n",
              "       [115.7773  ],\n",
              "       [116.66184 ],\n",
              "       [117.50136 ],\n",
              "       [118.07736 ],\n",
              "       [118.49945 ],\n",
              "       [118.966064],\n",
              "       [119.4386  ],\n",
              "       [119.73375 ],\n",
              "       [120.24615 ],\n",
              "       [120.834206]], dtype=float32)"
            ]
          },
          "metadata": {},
          "execution_count": 32
        }
      ]
    },
    {
      "cell_type": "code",
      "source": [
        "# Reshaping train and test values\n",
        "X_train =X_train.reshape(X_train.shape[0],X_train.shape[1])\n",
        "X_test = X_test.reshape(X_test.shape[0],X_test.shape[1])\n",
        "y_train =y_train.reshape(-1,1) \n",
        "ytest = ytest.reshape(-1,1)\n",
        "# Inverse Transformation\n",
        "X_test=scaler.inverse_transform(X_test)\n",
        "X_train=scaler.inverse_transform(X_train)\n",
        "ytest=scaler.inverse_transform(ytest)   \n",
        "y_train=scaler.inverse_transform(y_train)  "
      ],
      "metadata": {
        "id": "ZMdfv7rijHV4"
      },
      "execution_count": null,
      "outputs": []
    },
    {
      "cell_type": "code",
      "source": [
        "# Length of X_train and X_test\n",
        "lentrain=len(X_train)\n",
        "lentest=len(X_test)"
      ],
      "metadata": {
        "id": "ek3iOUQSnNC3"
      },
      "execution_count": null,
      "outputs": []
    },
    {
      "cell_type": "code",
      "source": [
        "# Plotting Close value Price including the Predicted and Actual values\n",
        "plt.figure(figsize=(15,6))\n",
        "plt.plot(np.arange(0, lentrain), y_train, 'r', label=\"Train values\")\n",
        "\n",
        "plt.plot(np.arange(lentrain, lentrain + lentest), y_predict, 'b', label=\"Predicted Value\")\n",
        "\n",
        "plt.plot(np.arange(lentrain, lentrain + lentest), ytest, 'g', label=\"Test values\")\n",
        "plt.legend(loc=\"best\")\n",
        "\n",
        "plt.xlabel(\"Period of Time \")\n",
        "plt.ylabel(\"Stock Market 'Close' Values \")\n",
        "plt.title(\"Test Values & Predicted Values along with train values \")\n"
      ],
      "metadata": {
        "colab": {
          "base_uri": "https://localhost:8080/",
          "height": 421
        },
        "id": "uS3tUOkNWz2N",
        "outputId": "feacd068-80f3-479f-9e1d-3d795926b11b"
      },
      "execution_count": null,
      "outputs": [
        {
          "output_type": "execute_result",
          "data": {
            "text/plain": [
              "Text(0.5, 1.0, 'Test Values & Predicted Values along with train values ')"
            ]
          },
          "metadata": {},
          "execution_count": 35
        },
        {
          "output_type": "display_data",
          "data": {
            "text/plain": [
              "<Figure size 1080x432 with 1 Axes>"
            ],
            "image/png": "[encoded data removed]"
          },
          "metadata": {
            "needs_background": "light"
          }
        }
      ]
    },
    {
      "cell_type": "markdown",
      "source": [
        "#### Test the model"
      ],
      "metadata": {
        "id": "9E-bXWWxED-a"
      }
    },
    {
      "cell_type": "code",
      "source": [
        "# Find Mean Sqaured Error\n",
        "from sklearn.metrics import mean_squared_error , r2_score\n",
        "mean_squared_error(ytest, y_predict,squared=False)"
      ],
      "metadata": {
        "colab": {
          "base_uri": "https://localhost:8080/"
        },
        "id": "nGCRfMdXGTxc",
        "outputId": "a198eaa1-b9ee-427e-c490-ff9a58f93741"
      },
      "execution_count": null,
      "outputs": [
        {
          "output_type": "execute_result",
          "data": {
            "text/plain": [
              "5.302500636231183"
            ]
          },
          "metadata": {},
          "execution_count": 36
        }
      ]
    },
    {
      "cell_type": "code",
      "source": [
        "# Coefficient of Determination or R Squared Value (r2)\n",
        "r2_score(ytest, y_predict)"
      ],
      "metadata": {
        "colab": {
          "base_uri": "https://localhost:8080/"
        },
        "id": "DRfI6YbeF_0j",
        "outputId": "581f8489-b98a-4ee6-f43d-c6f833d94e49"
      },
      "execution_count": null,
      "outputs": [
        {
          "output_type": "execute_result",
          "data": {
            "text/plain": [
              "0.8474844362001036"
            ]
          },
          "metadata": {},
          "execution_count": 37
        }
      ]
    },
    {
      "cell_type": "markdown",
      "source": [
        "--------------------THE END----------------------"
      ],
      "metadata": {
        "id": "abUMCNW5ElBH"
      }
    }
  ]
}