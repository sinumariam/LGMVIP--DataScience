{
  "cells": [
    {
      "cell_type": "markdown",
      "source": [
        "#### Author : SINU S MARIAM\n",
        "#### Designation : Data Science Intern  \n",
        "#### Organization : LetsGrowMore\n",
        "#### Batch : MARCH 2023\n",
        "#### Task 1 -DEVELOP A NEURAL NETWORK THAT CAN READ HANDWRITING ( ADVANCED LEVEL TASK)\n",
        "#### Problem Statement:\n",
        "* Create a Neural Network Machine Learning Model that can identify  Handwritten digits using Tensorflow and CNN on MNIST Dataset"
      ],
      "metadata": {
        "id": "9-tzVkL_PpZM"
      }
    },
    {
      "cell_type": "code",
      "source": [
        "#importing necessary libraries \n",
        "import tensorflow as tf\n",
        "#importing libraries for visualisation\n",
        "import matplotlib.pyplot as plt\n",
        "import numpy as np"
      ],
      "metadata": {
        "id": "yOVJY38oPngN"
      },
      "execution_count": 1,
      "outputs": []
    },
    {
      "cell_type": "code",
      "execution_count": 2,
      "metadata": {
        "colab": {
          "base_uri": "https://localhost:8080/",
          "height": 35
        },
        "id": "uFM5Oblx-mql",
        "outputId": "16353579-d957-4f8a-c225-03871c2eff79"
      },
      "outputs": [
        {
          "output_type": "execute_result",
          "data": {
            "text/plain": [
              "'2.11.0'"
            ],
            "application/vnd.google.colaboratory.intrinsic+json": {
              "type": "string"
            }
          },
          "metadata": {},
          "execution_count": 2
        }
      ],
      "source": [
        "# Checking Tensorflow Version\n",
        "tf.__version__"
      ]
    },
    {
      "cell_type": "markdown",
      "source": [
        "####  Performing descriptive analysis. Understand the variables and their corresponding values. "
      ],
      "metadata": {
        "id": "7pDBtyIuZSnN"
      }
    },
    {
      "cell_type": "code",
      "execution_count": 3,
      "metadata": {
        "id": "wY5gc2Kj-myP"
      },
      "outputs": [],
      "source": [
        "# Importing MNIST (Modified National Institute of Standards and Technology Dataset)\n",
        "# Training set of 60,000 examples, and a test set of 10,000 examples consisting of Handwritten digits from 0 to 9\n",
        "from tensorflow.keras.datasets import mnist \n",
        "(X_train,Y_train),(X_test,Y_test)=mnist.load_data()"
      ]
    },
    {
      "cell_type": "code",
      "execution_count": 4,
      "metadata": {
        "colab": {
          "base_uri": "https://localhost:8080/",
          "height": 282
        },
        "id": "2GStBDcn64cB",
        "outputId": "1fb10db1-8833-4fa2-f777-4a3fdb1e60fb"
      },
      "outputs": [
        {
          "output_type": "execute_result",
          "data": {
            "text/plain": [
              "<matplotlib.image.AxesImage at 0x7fc08eaa5130>"
            ]
          },
          "metadata": {},
          "execution_count": 4
        },
        {
          "output_type": "display_data",
          "data": {
            "text/plain": [
              "<Figure size 432x288 with 1 Axes>"
            ],
            "image/png": "[encoded data removed]"
          },
          "metadata": {
            "needs_background": "light"
          }
        }
      ],
      "source": [
        "# Plotting the first image in the dataset\n",
        "plt.imshow(X_train[0])"
      ]
    },
    {
      "cell_type": "code",
      "execution_count": 5,
      "metadata": {
        "colab": {
          "base_uri": "https://localhost:8080/"
        },
        "id": "ASGa-6Gn6_pH",
        "outputId": "835191bb-3947-4d8e-e853-327f0a6d586c"
      },
      "outputs": [
        {
          "output_type": "execute_result",
          "data": {
            "text/plain": [
              "(28, 28)"
            ]
          },
          "metadata": {},
          "execution_count": 5
        }
      ],
      "source": [
        "# checking the first shape of one image in dataset\n",
        "X_train[0].shape"
      ]
    },
    {
      "cell_type": "markdown",
      "metadata": {
        "id": "gPjNksSe-LNQ"
      },
      "source": [
        "\n",
        "\n",
        "*  Each image is 28 * 28 in dimension\n"
      ]
    },
    {
      "cell_type": "code",
      "execution_count": 6,
      "metadata": {
        "colab": {
          "base_uri": "https://localhost:8080/"
        },
        "id": "7IQW_Djf7siH",
        "outputId": "6f0b1e74-2d9a-44d1-ac69-e3303e58e6d6"
      },
      "outputs": [
        {
          "output_type": "stream",
          "name": "stdout",
          "text": [
            "5\n"
          ]
        }
      ],
      "source": [
        " # Printing the first number in Y_train corresponding to the first image in X_Train\n",
        " print(Y_train[0])"
      ]
    },
    {
      "cell_type": "code",
      "source": [
        "plt.imshow(X_train[1500])"
      ],
      "metadata": {
        "colab": {
          "base_uri": "https://localhost:8080/",
          "height": 282
        },
        "id": "JuK78p6kbuA7",
        "outputId": "c6398fdf-93b1-4fe3-b3c0-75bb0d383d2d"
      },
      "execution_count": 7,
      "outputs": [
        {
          "output_type": "execute_result",
          "data": {
            "text/plain": [
              "<matplotlib.image.AxesImage at 0x7fc088cfa970>"
            ]
          },
          "metadata": {},
          "execution_count": 7
        },
        {
          "output_type": "display_data",
          "data": {
            "text/plain": [
              "<Figure size 432x288 with 1 Axes>"
            ],
            "image/png": "[encoded data removed]"
          },
          "metadata": {
            "needs_background": "light"
          }
        }
      ]
    },
    {
      "cell_type": "code",
      "source": [
        "print(Y_train[1500])"
      ],
      "metadata": {
        "colab": {
          "base_uri": "https://localhost:8080/"
        },
        "id": "m4or3gcub03B",
        "outputId": "0657d7ef-a089-441d-d0b3-74589848f3fe"
      },
      "execution_count": 8,
      "outputs": [
        {
          "output_type": "stream",
          "name": "stdout",
          "text": [
            "9\n"
          ]
        }
      ]
    },
    {
      "cell_type": "code",
      "execution_count": 9,
      "metadata": {
        "colab": {
          "base_uri": "https://localhost:8080/"
        },
        "id": "230SRwxo-m1r",
        "outputId": "a666cb4a-a0f3-456f-80e7-53eef48fa640"
      },
      "outputs": [
        {
          "output_type": "stream",
          "name": "stdout",
          "text": [
            "Train set of features:  (60000, 28, 28)\n",
            "Test set of features:  (10000, 28, 28)\n",
            "Target for train:  (60000,)\n",
            "Target for test:  (10000,)\n"
          ]
        }
      ],
      "source": [
        "# Dimensions of Train and Test Data sets\n",
        "print('Train set of features: ', X_train.shape)\n",
        "print('Test set of features: ', X_test.shape)\n",
        "print('Target for train: ', Y_train.shape)\n",
        "print('Target for test: ', Y_test.shape)"
      ]
    },
    {
      "cell_type": "markdown",
      "source": [
        "\n",
        "*   Train Dataset has 60000 Digit Images\n",
        "*   Test Dataset has 10000 Digit Images\n",
        "*   Each Image is of size 28 * 28"
      ],
      "metadata": {
        "id": "Ft7jQqniie4q"
      }
    },
    {
      "cell_type": "code",
      "execution_count": 10,
      "metadata": {
        "id": "tMaTq5F2IvTH"
      },
      "outputs": [],
      "source": [
        "#CNN(Convolutional Neural Network) takes 4 Dimentional array as input \n",
        "#Input data has should be reshaped to (batch_size, height, width, depth)\n",
        "#Reshape the Images  to add a depth of 1.\n",
        "X_train = X_train.reshape(60000,28,28,1)\n",
        "X_test = X_test.reshape(10000,28,28,1)"
      ]
    },
    {
      "cell_type": "code",
      "execution_count": 11,
      "metadata": {
        "colab": {
          "base_uri": "https://localhost:8080/"
        },
        "id": "Qx8E4oP6R7ed",
        "outputId": "b85e1bcd-ebb5-4690-9018-620b2e4bd855"
      },
      "outputs": [
        {
          "output_type": "stream",
          "name": "stdout",
          "text": [
            "Train set of features:  (60000, 28, 28, 1)\n",
            "Test set of features:  (10000, 28, 28, 1)\n",
            "Target for train:  (60000,)\n",
            "Target for test:  (10000,)\n"
          ]
        }
      ],
      "source": [
        "# Dimensions of reshaped Train and Test Data sets\n",
        "print('Train set of features: ', X_train.shape)\n",
        "print('Test set of features: ', X_test.shape)\n",
        "print('Target for train: ', Y_train.shape)\n",
        "print('Target for test: ', Y_test.shape)"
      ]
    },
    {
      "cell_type": "code",
      "execution_count": 12,
      "metadata": {
        "colab": {
          "base_uri": "https://localhost:8080/"
        },
        "id": "Zf1NfMW-SKMS",
        "outputId": "3525ee20-f32d-4534-aa4d-c0dbf81fab66"
      },
      "outputs": [
        {
          "output_type": "execute_result",
          "data": {
            "text/plain": [
              "array([0., 0., 0., 0., 0., 1., 0., 0., 0., 0.], dtype=float32)"
            ]
          },
          "metadata": {},
          "execution_count": 12
        }
      ],
      "source": [
        "# One-Hot Encoding used to label target columns in both train and test sets\n",
        "from keras.utils import to_categorical\n",
        "Y_train = to_categorical(Y_train)\n",
        "Y_test = to_categorical(Y_test)\n",
        "Y_train[0]"
      ]
    },
    {
      "cell_type": "markdown",
      "source": [
        "#### Building the Neutral Network Model"
      ],
      "metadata": {
        "id": "vOwoZiP1E-Vq"
      }
    },
    {
      "cell_type": "code",
      "execution_count": 13,
      "metadata": {
        "id": "ju3X6TaJSfld"
      },
      "outputs": [],
      "source": [
        "### Create the model\n",
        "from keras.models import Sequential\n",
        "from keras.layers import Dense, Conv2D, Flatten, MaxPool2D\n",
        "my_model = Sequential()\n",
        "\n",
        "#Layers are added to model\n",
        "# Activation functions learn complex (non-linear) representations of data.\n",
        "# Input layer activation Function is RELU, which plots values between 0 and x. Output Layer uses activation fn as Softmax which sqashes values between 0 and 1\n",
        "# Convolutional layer applies filters to the input image to extract features. Here the filter size is 3 x 3\n",
        "# Max Pooling layer downsamples the image to reduce computation and filter sizes is 2 X 2 \n",
        "# Fully connected layer makes the final prediction.\n",
        "my_model.add(Conv2D(64, kernel_size=3, activation='relu', input_shape=(28,28,1)))\n",
        "my_model.add(Conv2D(32, kernel_size=3, activation='relu'))\n",
        "my_model.add(MaxPool2D(pool_size=(2, 2), strides=None, padding='valid', data_format=None))\n",
        "my_model.add(Flatten())\n",
        "my_model.add(Dense(10, activation='softmax'))"
      ]
    },
    {
      "cell_type": "code",
      "execution_count": 14,
      "metadata": {
        "id": "jVraEdMKSkZN"
      },
      "outputs": [],
      "source": [
        "# Model Compilation\n",
        "my_model.compile(optimizer='adam', loss='categorical_crossentropy', metrics=['accuracy'])"
      ]
    },
    {
      "cell_type": "code",
      "execution_count": 15,
      "metadata": {
        "colab": {
          "base_uri": "https://localhost:8080/"
        },
        "id": "DdoocG8lStdl",
        "outputId": "b97dc0c5-5717-4c29-c59c-7937b37f269c"
      },
      "outputs": [
        {
          "output_type": "stream",
          "name": "stdout",
          "text": [
            "Epoch 1/3\n",
            "1875/1875 [==============================] - 219s 116ms/step - loss: 0.2198 - accuracy: 0.9523 - val_loss: 0.0770 - val_accuracy: 0.9766\n",
            "Epoch 2/3\n",
            "1875/1875 [==============================] - 201s 107ms/step - loss: 0.0704 - accuracy: 0.9793 - val_loss: 0.0670 - val_accuracy: 0.9772\n",
            "Epoch 3/3\n",
            "1875/1875 [==============================] - 205s 109ms/step - loss: 0.0544 - accuracy: 0.9831 - val_loss: 0.0585 - val_accuracy: 0.9812\n"
          ]
        }
      ],
      "source": [
        "# Fitting the model \n",
        "# Epoch refers to one cycle through full training dataset. Here 3 Epochs are use\n",
        "h1=my_model.fit(X_train, Y_train, validation_data=(X_test, Y_test), epochs=3)"
      ]
    },
    {
      "cell_type": "code",
      "execution_count": 16,
      "metadata": {
        "colab": {
          "base_uri": "https://localhost:8080/"
        },
        "id": "W2_CWD24qLSp",
        "outputId": "562a2cf4-da2a-4f5b-bfa7-c9a89a108265"
      },
      "outputs": [
        {
          "output_type": "stream",
          "name": "stdout",
          "text": [
            "Model: \"sequential\"\n",
            "_________________________________________________________________\n",
            " Layer (type)                Output Shape              Param #   \n",
            "=================================================================\n",
            " conv2d (Conv2D)             (None, 26, 26, 64)        640       \n",
            "                                                                 \n",
            " conv2d_1 (Conv2D)           (None, 24, 24, 32)        18464     \n",
            "                                                                 \n",
            " max_pooling2d (MaxPooling2D  (None, 12, 12, 32)       0         \n",
            " )                                                               \n",
            "                                                                 \n",
            " flatten (Flatten)           (None, 4608)              0         \n",
            "                                                                 \n",
            " dense (Dense)               (None, 10)                46090     \n",
            "                                                                 \n",
            "=================================================================\n",
            "Total params: 65,194\n",
            "Trainable params: 65,194\n",
            "Non-trainable params: 0\n",
            "_________________________________________________________________\n"
          ]
        }
      ],
      "source": [
        "# Model Summary\n",
        "my_model.summary()"
      ]
    },
    {
      "cell_type": "markdown",
      "source": [
        "#### Predicting Handwritten Digits Using model"
      ],
      "metadata": {
        "id": "L0TfNPvqGh1B"
      }
    },
    {
      "cell_type": "code",
      "execution_count": 17,
      "metadata": {
        "colab": {
          "base_uri": "https://localhost:8080/"
        },
        "id": "MMqyWEE96cjm",
        "outputId": "2a9db11a-25c7-4534-acd5-41de93839178"
      },
      "outputs": [
        {
          "output_type": "stream",
          "name": "stdout",
          "text": [
            "313/313 [==============================] - 8s 25ms/step\n"
          ]
        },
        {
          "output_type": "execute_result",
          "data": {
            "text/plain": [
              "array([[2.1275260e-07, 3.2467902e-08, 6.1607648e-07, ..., 9.9980688e-01,\n",
              "        8.6084402e-09, 8.2818224e-07],\n",
              "       [5.4356293e-09, 1.3119015e-06, 9.9999624e-01, ..., 7.7618315e-13,\n",
              "        2.2579275e-06, 6.9624701e-12],\n",
              "       [1.9897243e-05, 9.9868178e-01, 4.1231229e-05, ..., 3.3043500e-04,\n",
              "        4.7920583e-04, 1.4392115e-06],\n",
              "       ...,\n",
              "       [2.5872067e-09, 4.7331113e-07, 4.5546128e-12, ..., 4.0507119e-05,\n",
              "        4.8525912e-05, 8.7815833e-06],\n",
              "       [3.0393923e-09, 5.6998959e-12, 4.0483938e-10, ..., 5.6811653e-11,\n",
              "        1.4973576e-06, 6.3071470e-10],\n",
              "       [3.8853059e-09, 1.1891596e-10, 2.6032883e-08, ..., 1.0111212e-13,\n",
              "        2.7258196e-08, 7.8527934e-11]], dtype=float32)"
            ]
          },
          "metadata": {},
          "execution_count": 17
        }
      ],
      "source": [
        "# Prediction\n",
        "Y_pred=my_model.predict(X_test)\n",
        "Y_pred"
      ]
    },
    {
      "cell_type": "code",
      "source": [
        "# Plotting one test iImage\n",
        "plt.imshow(X_test[0])"
      ],
      "metadata": {
        "colab": {
          "base_uri": "https://localhost:8080/",
          "height": 282
        },
        "id": "WTchjN6IQWus",
        "outputId": "5754d492-b155-4b1b-f0b4-677d4c60a8a3"
      },
      "execution_count": 18,
      "outputs": [
        {
          "output_type": "execute_result",
          "data": {
            "text/plain": [
              "<matplotlib.image.AxesImage at 0x7fc077fcccd0>"
            ]
          },
          "metadata": {},
          "execution_count": 18
        },
        {
          "output_type": "display_data",
          "data": {
            "text/plain": [
              "<Figure size 432x288 with 1 Axes>"
            ],
            "image/png": "[encoded data removed]"
          },
          "metadata": {
            "needs_background": "light"
          }
        }
      ]
    },
    {
      "cell_type": "code",
      "source": [
        "# Printing the  corresponding  predicted Image\n",
        "import numpy as np\n",
        "np.argmax(Y_pred[0])"
      ],
      "metadata": {
        "colab": {
          "base_uri": "https://localhost:8080/"
        },
        "id": "yoArl8cqQpGU",
        "outputId": "e8c4f5e5-25b0-4c77-8c4d-63356fbff118"
      },
      "execution_count": 19,
      "outputs": [
        {
          "output_type": "execute_result",
          "data": {
            "text/plain": [
              "7"
            ]
          },
          "metadata": {},
          "execution_count": 19
        }
      ]
    },
    {
      "cell_type": "code",
      "execution_count": 20,
      "metadata": {
        "colab": {
          "base_uri": "https://localhost:8080/"
        },
        "id": "upThDRcm5R_W",
        "outputId": "a516c46f-f4a3-4bd9-e8e9-2687a02e3952"
      },
      "outputs": [
        {
          "output_type": "execute_result",
          "data": {
            "text/plain": [
              "dict_keys(['loss', 'accuracy', 'val_loss', 'val_accuracy'])"
            ]
          },
          "metadata": {},
          "execution_count": 20
        }
      ],
      "source": [
        "h1.history.keys()"
      ]
    },
    {
      "cell_type": "markdown",
      "source": [
        "#### Test the model"
      ],
      "metadata": {
        "id": "zw9vWf-AHoVI"
      }
    },
    {
      "cell_type": "code",
      "execution_count": 21,
      "metadata": {
        "colab": {
          "base_uri": "https://localhost:8080/",
          "height": 279
        },
        "id": "_7dgHESxvqil",
        "outputId": "b0d6d47c-1cca-4008-eaf8-579ed8106709"
      },
      "outputs": [
        {
          "output_type": "display_data",
          "data": {
            "text/plain": [
              "<Figure size 432x288 with 1 Axes>"
            ],
            "image/png": "[encoded data removed]"
          },
          "metadata": {
            "needs_background": "light"
          }
        }
      ],
      "source": [
        "# Plotting between Accuracy and Validation Accuracy\n",
        "# Validation accuracy shows how well, the model performs when it is fed with new data\n",
        "plt.plot(h1.history[\"accuracy\"],label='accuracy')\n",
        "plt.plot(h1.history[\"val_accuracy\"],label='val_accuracy')\n",
        "plt.xlabel('epoch')\n",
        "plt.legend()\n",
        "plt.show()"
      ]
    },
    {
      "cell_type": "markdown",
      "source": [
        "* We can see that after 1 epoch, both validatation accuracy and accuracy stabilizes."
      ],
      "metadata": {
        "id": "d678zFsQF1P7"
      }
    },
    {
      "cell_type": "code",
      "execution_count": 22,
      "metadata": {
        "id": "wkFH0YvT6peq",
        "colab": {
          "base_uri": "https://localhost:8080/",
          "height": 280
        },
        "outputId": "36551a49-105e-425c-bcf1-4bc3bd957ce7"
      },
      "outputs": [
        {
          "output_type": "display_data",
          "data": {
            "text/plain": [
              "<Figure size 432x288 with 1 Axes>"
            ],
            "image/png": "[encoded data removed]"
          },
          "metadata": {
            "needs_background": "light"
          }
        }
      ],
      "source": [
        "# Plotting between Loss and Validation Loss\n",
        "plt.plot(h1.history[\"loss\"],label='loss')\n",
        "plt.plot(h1.history[\"val_loss\"],label='val_loss')\n",
        "plt.xlabel('epoch')\n",
        "plt.legend()\n",
        "plt.show()"
      ]
    },
    {
      "cell_type": "markdown",
      "source": [
        " --------------------------------**THE END**-------------------------"
      ],
      "metadata": {
        "id": "-rAtfn35LXXM"
      }
    }
  ],
  "metadata": {
    "colab": {
      "provenance": []
    },
    "kernelspec": {
      "display_name": "Python 3",
      "name": "python3"
    },
    "language_info": {
      "name": "python"
    }
  },
  "nbformat": 4,
  "nbformat_minor": 0
}